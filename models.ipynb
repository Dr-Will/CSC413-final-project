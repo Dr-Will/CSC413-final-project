{
 "cells": [
  {
   "cell_type": "code",
   "execution_count": 1,
   "metadata": {},
   "outputs": [
    {
     "name": "stderr",
     "output_type": "stream",
     "text": [
      "C:\\Users\\Will_\\miniconda3\\envs\\csc413\\lib\\site-packages\\tqdm\\auto.py:22: TqdmWarning: IProgress not found. Please update jupyter and ipywidgets. See https://ipywidgets.readthedocs.io/en/stable/user_install.html\n",
      "  from .autonotebook import tqdm as notebook_tqdm\n"
     ]
    }
   ],
   "source": [
    "\n",
    "import torch.nn as nn\n",
    "import torchvision\n",
    "import torch\n",
    "import matplotlib.pyplot as plt\n",
    "import numpy as np\n",
    "import torch.optim as optim"
   ]
  },
  {
   "cell_type": "markdown",
   "metadata": {},
   "source": [
    "## **Step1 Load the data**"
   ]
  },
  {
   "cell_type": "code",
   "execution_count": 474,
   "metadata": {},
   "outputs": [],
   "source": [
    "import dataloader\n",
    "creature_imgs, creature_captions =dataloader.get_torch_creature_data() "
   ]
  },
  {
   "cell_type": "markdown",
   "metadata": {},
   "source": [
    "## **Step2 Process the data**\n",
    "Turn both the image and captions in to embeddings,\\\n",
    "For images we are using **VGG16** to obtain the features\n",
    "For captions we are using **GloVe** embeddings"
   ]
  },
  {
   "cell_type": "markdown",
   "metadata": {},
   "source": [
    "* GloVe embedding"
   ]
  },
  {
   "cell_type": "code",
   "execution_count": 3,
   "metadata": {},
   "outputs": [],
   "source": [
    "# creature_tokens = [i.replace(\".\", \" . \").replace(\",\", \" , \").replace(\";\", \" ; \").replace(\"?\", \" ? \").lower().split() for i in creature_captions]\n"
   ]
  },
  {
   "cell_type": "markdown",
   "metadata": {},
   "source": [
    "        Load glove embedding"
   ]
  },
  {
   "cell_type": "code",
   "execution_count": 4,
   "metadata": {},
   "outputs": [],
   "source": [
    "# glove = torchtext.vocab.GloVe(name=\"6B\", dim=50)"
   ]
  },
  {
   "cell_type": "code",
   "execution_count": 5,
   "metadata": {},
   "outputs": [],
   "source": [
    "# for i in glove.stoi.keys():\n",
    "#     if \"<\" in i:\n",
    "#         print(i)"
   ]
  },
  {
   "cell_type": "markdown",
   "metadata": {},
   "source": [
    "        Get the mean of all embedding vectors, we will use this mean as the embedding of all unseen words"
   ]
  },
  {
   "cell_type": "code",
   "execution_count": 6,
   "metadata": {},
   "outputs": [],
   "source": [
    "# mean = glove.vectors.mean(dim=0)\n",
    "# glove_vector_with_unk = torch.cat((glove.vectors,mean.unsqueeze(0)))"
   ]
  },
  {
   "cell_type": "code",
   "execution_count": 7,
   "metadata": {},
   "outputs": [],
   "source": [
    "# vocab_size = len(glove_vector_with_unk)"
   ]
  },
  {
   "cell_type": "markdown",
   "metadata": {},
   "source": [
    "        Get the vector representation of all sentences"
   ]
  },
  {
   "cell_type": "code",
   "execution_count": 8,
   "metadata": {},
   "outputs": [],
   "source": [
    "## obtain the index of all words in the caption\n",
    "# emb_creature_captions =[] \n",
    "# for caption in creature_tokens:\n",
    "#     emb_creature_captions.append(torch.Tensor([glove.stoi[i] if i in glove.stoi.keys() else 400000 for i in caption]).int())"
   ]
  },
  {
   "cell_type": "code",
   "execution_count": 9,
   "metadata": {},
   "outputs": [],
   "source": [
    "## pad the captions\n",
    "# from torch.nn.utils.rnn import pad_sequence\n",
    "# padded_emb_creature_captions = pad_sequence(emb_creature_captions,batch_first=True)\n"
   ]
  },
  {
   "cell_type": "code",
   "execution_count": 10,
   "metadata": {},
   "outputs": [],
   "source": [
    "## obtain the embedding\n",
    "# glove_emb = nn.Embedding.from_pretrained(glove_vector_with_unk)\n",
    "# target = glove_emb(padded_emb_creature_captions)\n"
   ]
  },
  {
   "cell_type": "markdown",
   "metadata": {},
   "source": [
    "* Character by character Onehot embedding"
   ]
  },
  {
   "cell_type": "code",
   "execution_count": 11,
   "metadata": {},
   "outputs": [],
   "source": [
    "# use { and } as start of the sentence and end of sentence\n",
    "# use @ as padding\n",
    "def get_character_vocab(sentences):\n",
    "    return list(set([i for sentence in sentences for word in sentence.lower() for i in word] ))+ [\"{\", \"}\"] + [\"@\"]\n",
    "    "
   ]
  },
  {
   "cell_type": "code",
   "execution_count": 12,
   "metadata": {},
   "outputs": [],
   "source": [
    "vocab = get_character_vocab(creature_captions)"
   ]
  },
  {
   "cell_type": "code",
   "execution_count": 13,
   "metadata": {},
   "outputs": [],
   "source": [
    "vocab_stoi = {vocab[i] :i for i in range(len(vocab))}\n",
    "vocab_itos = {i:vocab[i] for i in range(len(vocab))}    "
   ]
  },
  {
   "cell_type": "code",
   "execution_count": 514,
   "metadata": {},
   "outputs": [],
   "source": [
    "def make_torch_token(sentences, vocab):\n",
    "    tokens = []\n",
    "    for sentence in sentences:\n",
    "        token = [vocab_stoi[\"{\"]] + [vocab_stoi[character] for character in sentence.lower()] + [vocab_stoi[\"}\"]]\n",
    "        tokens.append(token)\n",
    "    return np.array(tokens)"
   ]
  },
  {
   "cell_type": "code",
   "execution_count": 383,
   "metadata": {},
   "outputs": [],
   "source": [
    "def make_onehot(tokens,vocab):\n",
    "    \n",
    "    word_onehot = torch.eye(len(vocab))\n",
    "    onehot_sentences = []\n",
    "    for token in tokens:\n",
    "        torch_onehot_sentence = word_onehot[token.int().tolist()]\n",
    "        onehot_sentences.append(torch_onehot_sentence.unsqueeze(0))\n",
    "    \n",
    "    return onehot_sentences"
   ]
  },
  {
   "cell_type": "code",
   "execution_count": 16,
   "metadata": {},
   "outputs": [],
   "source": [
    "def get_sentence_from_onehot(sentences, vocab):\n",
    "    readable_sentences = []\n",
    "    for sentence in sentences:\n",
    "        readable_sentence = [vocab[torch.argmax(character)] for character in sentence]\n",
    "    \n",
    "        readable_sentences.append(readable_sentence)\n",
    "         \n",
    "    return readable_sentences"
   ]
  },
  {
   "cell_type": "code",
   "execution_count": 515,
   "metadata": {},
   "outputs": [
    {
     "name": "stderr",
     "output_type": "stream",
     "text": [
      "C:\\Users\\Will_\\AppData\\Local\\Temp\\ipykernel_31900\\3107438979.py:6: VisibleDeprecationWarning: Creating an ndarray from ragged nested sequences (which is a list-or-tuple of lists-or-tuples-or ndarrays with different lengths or shapes) is deprecated. If you meant to do this, you must specify 'dtype=object' when creating the ndarray.\n",
      "  return np.array(tokens)\n"
     ]
    }
   ],
   "source": [
    "token_creature_captions = make_torch_token(creature_captions,vocab)"
   ]
  },
  {
   "cell_type": "code",
   "execution_count": 525,
   "metadata": {},
   "outputs": [],
   "source": [
    "small_token_creature_captions = token_creature_captions[:5]"
   ]
  },
  {
   "cell_type": "code",
   "execution_count": 526,
   "metadata": {},
   "outputs": [
    {
     "data": {
      "text/plain": [
       "array([list([48, 28, 44, 3, 34, 22, 30, 17, 44, 22, 42, 44, 28, 44, 0, 22, 42, 37, 44, 17, 23, 21, 16, 16, 44, 22, 16, 44, 3, 30, 22, 46, 24, 22, 42, 26, 44, 14, 0, 44, 28, 44, 16, 21, 29, 44, 18, 25, 44, 16, 29, 28, 22, 23, 16, 44, 22, 42, 44, 28, 42, 44, 21, 42, 29, 23, 19, 44, 8, 28, 19, 44, 49]),\n",
       "       list([48, 28, 44, 24, 30, 28, 3, 37, 44, 17, 18, 26, 44, 28, 42, 17, 44, 28, 44, 16, 0, 18, 29, 29, 21, 17, 44, 17, 18, 26, 44, 28, 23, 21, 44, 25, 22, 26, 34, 29, 22, 42, 49]),\n",
       "       list([48, 28, 44, 30, 22, 29, 29, 30, 21, 44, 26, 22, 23, 30, 44, 3, 18, 45, 21, 23, 21, 17, 44, 22, 42, 44, 0, 28, 22, 42, 29, 44, 16, 22, 29, 16, 44, 22, 42, 44, 25, 23, 18, 42, 29, 44, 18, 25, 44, 28, 44, 0, 28, 22, 42, 29, 21, 17, 44, 23, 28, 22, 42, 24, 18, 8, 44, 8, 22, 29, 34, 44, 34, 21, 23, 44, 34, 28, 42, 17, 16, 44, 22, 42, 44, 28, 44, 24, 18, 8, 30, 44, 49]),\n",
       "       list([48, 28, 44, 46, 28, 42, 44, 30, 28, 19, 16, 44, 18, 42, 44, 28, 44, 24, 21, 42, 3, 34, 44, 8, 34, 22, 30, 21, 44, 34, 22, 16, 44, 17, 18, 26, 44, 16, 22, 29, 16, 44, 24, 19, 44, 34, 22, 46, 44, 49]),\n",
       "       list([48, 28, 44, 46, 28, 42, 44, 22, 42, 44, 28, 42, 44, 18, 23, 28, 42, 26, 21, 44, 34, 28, 29, 44, 16, 29, 28, 23, 23, 22, 42, 26, 44, 28, 29, 44, 16, 18, 46, 21, 29, 34, 22, 42, 26, 44, 49])],\n",
       "      dtype=object)"
      ]
     },
     "execution_count": 526,
     "metadata": {},
     "output_type": "execute_result"
    }
   ],
   "source": [
    "small_token_creature_captions"
   ]
  },
  {
   "cell_type": "code",
   "execution_count": 529,
   "metadata": {},
   "outputs": [],
   "source": [
    "padded = pad_sequence([torch.Tensor(i) for i in small_token_creature_captions]).transpose(1,0)"
   ]
  },
  {
   "cell_type": "code",
   "execution_count": 530,
   "metadata": {},
   "outputs": [
    {
     "data": {
      "text/plain": [
       "tensor([[48., 28., 44.,  3., 34., 22., 30., 17., 44., 22., 42., 44., 28., 44.,\n",
       "          0., 22., 42., 37., 44., 17., 23., 21., 16., 16., 44., 22., 16., 44.,\n",
       "          3., 30., 22., 46., 24., 22., 42., 26., 44., 14.,  0., 44., 28., 44.,\n",
       "         16., 21., 29., 44., 18., 25., 44., 16., 29., 28., 22., 23., 16., 44.,\n",
       "         22., 42., 44., 28., 42., 44., 21., 42., 29., 23., 19., 44.,  8., 28.,\n",
       "         19., 44., 49.,  0.,  0.,  0.,  0.,  0.,  0.,  0.,  0.,  0.,  0.,  0.,\n",
       "          0.,  0.,  0.,  0.,  0.,  0.,  0.,  0.,  0.],\n",
       "        [48., 28., 44., 24., 30., 28.,  3., 37., 44., 17., 18., 26., 44., 28.,\n",
       "         42., 17., 44., 28., 44., 16.,  0., 18., 29., 29., 21., 17., 44., 17.,\n",
       "         18., 26., 44., 28., 23., 21., 44., 25., 22., 26., 34., 29., 22., 42.,\n",
       "         49.,  0.,  0.,  0.,  0.,  0.,  0.,  0.,  0.,  0.,  0.,  0.,  0.,  0.,\n",
       "          0.,  0.,  0.,  0.,  0.,  0.,  0.,  0.,  0.,  0.,  0.,  0.,  0.,  0.,\n",
       "          0.,  0.,  0.,  0.,  0.,  0.,  0.,  0.,  0.,  0.,  0.,  0.,  0.,  0.,\n",
       "          0.,  0.,  0.,  0.,  0.,  0.,  0.,  0.,  0.],\n",
       "        [48., 28., 44., 30., 22., 29., 29., 30., 21., 44., 26., 22., 23., 30.,\n",
       "         44.,  3., 18., 45., 21., 23., 21., 17., 44., 22., 42., 44.,  0., 28.,\n",
       "         22., 42., 29., 44., 16., 22., 29., 16., 44., 22., 42., 44., 25., 23.,\n",
       "         18., 42., 29., 44., 18., 25., 44., 28., 44.,  0., 28., 22., 42., 29.,\n",
       "         21., 17., 44., 23., 28., 22., 42., 24., 18.,  8., 44.,  8., 22., 29.,\n",
       "         34., 44., 34., 21., 23., 44., 34., 28., 42., 17., 16., 44., 22., 42.,\n",
       "         44., 28., 44., 24., 18.,  8., 30., 44., 49.],\n",
       "        [48., 28., 44., 46., 28., 42., 44., 30., 28., 19., 16., 44., 18., 42.,\n",
       "         44., 28., 44., 24., 21., 42.,  3., 34., 44.,  8., 34., 22., 30., 21.,\n",
       "         44., 34., 22., 16., 44., 17., 18., 26., 44., 16., 22., 29., 16., 44.,\n",
       "         24., 19., 44., 34., 22., 46., 44., 49.,  0.,  0.,  0.,  0.,  0.,  0.,\n",
       "          0.,  0.,  0.,  0.,  0.,  0.,  0.,  0.,  0.,  0.,  0.,  0.,  0.,  0.,\n",
       "          0.,  0.,  0.,  0.,  0.,  0.,  0.,  0.,  0.,  0.,  0.,  0.,  0.,  0.,\n",
       "          0.,  0.,  0.,  0.,  0.,  0.,  0.,  0.,  0.],\n",
       "        [48., 28., 44., 46., 28., 42., 44., 22., 42., 44., 28., 42., 44., 18.,\n",
       "         23., 28., 42., 26., 21., 44., 34., 28., 29., 44., 16., 29., 28., 23.,\n",
       "         23., 22., 42., 26., 44., 28., 29., 44., 16., 18., 46., 21., 29., 34.,\n",
       "         22., 42., 26., 44., 49.,  0.,  0.,  0.,  0.,  0.,  0.,  0.,  0.,  0.,\n",
       "          0.,  0.,  0.,  0.,  0.,  0.,  0.,  0.,  0.,  0.,  0.,  0.,  0.,  0.,\n",
       "          0.,  0.,  0.,  0.,  0.,  0.,  0.,  0.,  0.,  0.,  0.,  0.,  0.,  0.,\n",
       "          0.,  0.,  0.,  0.,  0.,  0.,  0.,  0.,  0.]])"
      ]
     },
     "execution_count": 530,
     "metadata": {},
     "output_type": "execute_result"
    }
   ],
   "source": [
    "padded"
   ]
  },
  {
   "cell_type": "code",
   "execution_count": 384,
   "metadata": {},
   "outputs": [],
   "source": [
    "def get_padded_onehot_from_token(tokens):\n",
    "    \n",
    "    word_onehot = torch.eye(len(vocab))\n",
    "    onehot_sentences=[]\n",
    "    padded_tokens = pad_sequence(tokens).permute(1,0)\n",
    "    for token in padded_tokens:\n",
    "        \n",
    "        torch_onehot_sentence = word_onehot[token.int().tolist()]\n",
    "        onehot_sentences.append(torch_onehot_sentence.unsqueeze(0))\n",
    "    return torch.cat(onehot_sentences)\n",
    "\n",
    "    "
   ]
  },
  {
   "cell_type": "code",
   "execution_count": 376,
   "metadata": {},
   "outputs": [],
   "source": [
    "small_onehot = make_onehot(small_token_creature_captions,vocab)"
   ]
  },
  {
   "cell_type": "code",
   "execution_count": 374,
   "metadata": {},
   "outputs": [
    {
     "data": {
      "text/plain": [
       "5"
      ]
     },
     "execution_count": 374,
     "metadata": {},
     "output_type": "execute_result"
    }
   ],
   "source": [
    "len(small_onehot)"
   ]
  },
  {
   "cell_type": "code",
   "execution_count": 398,
   "metadata": {},
   "outputs": [],
   "source": [
    "tiny_token =token_creature_captions[0].unsqueeze(0)"
   ]
  },
  {
   "cell_type": "code",
   "execution_count": 399,
   "metadata": {},
   "outputs": [
    {
     "ename": "TypeError",
     "evalue": "pad_sequence(): argument 'sequences' (position 1) must be tuple of Tensors, not Tensor",
     "output_type": "error",
     "traceback": [
      "\u001b[1;31m---------------------------------------------------------------------------\u001b[0m",
      "\u001b[1;31mTypeError\u001b[0m                                 Traceback (most recent call last)",
      "\u001b[1;32mc:\\Documents\\SynologyDrive\\School\\Year 3\\CSC413\\Assignments\\project\\CSC413-final-project\\models.ipynb Cell 33'\u001b[0m in \u001b[0;36m<module>\u001b[1;34m\u001b[0m\n\u001b[1;32m----> <a href='vscode-notebook-cell:/c%3A/Documents/SynologyDrive/School/Year%203/CSC413/Assignments/project/CSC413-final-project/models.ipynb#ch0000145?line=0'>1</a>\u001b[0m get_padded_onehot_from_token(tiny_token)\n",
      "\u001b[1;32mc:\\Documents\\SynologyDrive\\School\\Year 3\\CSC413\\Assignments\\project\\CSC413-final-project\\models.ipynb Cell 29'\u001b[0m in \u001b[0;36mget_padded_onehot_from_token\u001b[1;34m(tokens)\u001b[0m\n\u001b[0;32m      <a href='vscode-notebook-cell:/c%3A/Documents/SynologyDrive/School/Year%203/CSC413/Assignments/project/CSC413-final-project/models.ipynb#ch0000134?line=1'>2</a>\u001b[0m word_onehot \u001b[39m=\u001b[39m torch\u001b[39m.\u001b[39meye(\u001b[39mlen\u001b[39m(vocab))\n\u001b[0;32m      <a href='vscode-notebook-cell:/c%3A/Documents/SynologyDrive/School/Year%203/CSC413/Assignments/project/CSC413-final-project/models.ipynb#ch0000134?line=2'>3</a>\u001b[0m onehot_sentences\u001b[39m=\u001b[39m[]\n\u001b[1;32m----> <a href='vscode-notebook-cell:/c%3A/Documents/SynologyDrive/School/Year%203/CSC413/Assignments/project/CSC413-final-project/models.ipynb#ch0000134?line=3'>4</a>\u001b[0m padded_tokens \u001b[39m=\u001b[39m pad_sequence(tokens)\u001b[39m.\u001b[39mpermute(\u001b[39m1\u001b[39m,\u001b[39m0\u001b[39m)\n\u001b[0;32m      <a href='vscode-notebook-cell:/c%3A/Documents/SynologyDrive/School/Year%203/CSC413/Assignments/project/CSC413-final-project/models.ipynb#ch0000134?line=4'>5</a>\u001b[0m \u001b[39mfor\u001b[39;00m token \u001b[39min\u001b[39;00m padded_tokens:\n\u001b[0;32m      <a href='vscode-notebook-cell:/c%3A/Documents/SynologyDrive/School/Year%203/CSC413/Assignments/project/CSC413-final-project/models.ipynb#ch0000134?line=6'>7</a>\u001b[0m     torch_onehot_sentence \u001b[39m=\u001b[39m word_onehot[token\u001b[39m.\u001b[39mint()\u001b[39m.\u001b[39mtolist()]\n",
      "File \u001b[1;32m~\\miniconda3\\envs\\csc413\\lib\\site-packages\\torch\\nn\\utils\\rnn.py:363\u001b[0m, in \u001b[0;36mpad_sequence\u001b[1;34m(sequences, batch_first, padding_value)\u001b[0m\n\u001b[0;32m    <a href='file:///c%3A/Users/Will_/miniconda3/envs/csc413/lib/site-packages/torch/nn/utils/rnn.py?line=324'>325</a>\u001b[0m \u001b[39mr\u001b[39m\u001b[39m\"\"\"Pad a list of variable length Tensors with ``padding_value``\u001b[39;00m\n\u001b[0;32m    <a href='file:///c%3A/Users/Will_/miniconda3/envs/csc413/lib/site-packages/torch/nn/utils/rnn.py?line=325'>326</a>\u001b[0m \n\u001b[0;32m    <a href='file:///c%3A/Users/Will_/miniconda3/envs/csc413/lib/site-packages/torch/nn/utils/rnn.py?line=326'>327</a>\u001b[0m \u001b[39m``pad_sequence`` stacks a list of Tensors along a new dimension,\u001b[39;00m\n\u001b[1;32m   (...)\u001b[0m\n\u001b[0;32m    <a href='file:///c%3A/Users/Will_/miniconda3/envs/csc413/lib/site-packages/torch/nn/utils/rnn.py?line=357'>358</a>\u001b[0m \u001b[39m    Tensor of size ``B x T x *`` otherwise\u001b[39;00m\n\u001b[0;32m    <a href='file:///c%3A/Users/Will_/miniconda3/envs/csc413/lib/site-packages/torch/nn/utils/rnn.py?line=358'>359</a>\u001b[0m \u001b[39m\"\"\"\u001b[39;00m\n\u001b[0;32m    <a href='file:///c%3A/Users/Will_/miniconda3/envs/csc413/lib/site-packages/torch/nn/utils/rnn.py?line=360'>361</a>\u001b[0m \u001b[39m# assuming trailing dimensions and type of all the Tensors\u001b[39;00m\n\u001b[0;32m    <a href='file:///c%3A/Users/Will_/miniconda3/envs/csc413/lib/site-packages/torch/nn/utils/rnn.py?line=361'>362</a>\u001b[0m \u001b[39m# in sequences are same and fetching those from sequences[0]\u001b[39;00m\n\u001b[1;32m--> <a href='file:///c%3A/Users/Will_/miniconda3/envs/csc413/lib/site-packages/torch/nn/utils/rnn.py?line=362'>363</a>\u001b[0m \u001b[39mreturn\u001b[39;00m torch\u001b[39m.\u001b[39;49m_C\u001b[39m.\u001b[39;49m_nn\u001b[39m.\u001b[39;49mpad_sequence(sequences, batch_first, padding_value)\n",
      "\u001b[1;31mTypeError\u001b[0m: pad_sequence(): argument 'sequences' (position 1) must be tuple of Tensors, not Tensor"
     ]
    }
   ],
   "source": [
    "get_padded_onehot_from_token(tiny_token)"
   ]
  },
  {
   "cell_type": "code",
   "execution_count": 18,
   "metadata": {},
   "outputs": [],
   "source": [
    "from torch.nn.utils.rnn import pad_sequence\n",
    "padded_tokens = pad_sequence(token_creature_captions,padding_value=vocab_stoi[\"@\"]).permute(1,0)"
   ]
  },
  {
   "cell_type": "code",
   "execution_count": 19,
   "metadata": {},
   "outputs": [],
   "source": [
    "onehot_creature_captions = make_onehot(padded_tokens,vocab)"
   ]
  },
  {
   "cell_type": "code",
   "execution_count": 20,
   "metadata": {},
   "outputs": [
    {
     "data": {
      "text/plain": [
       "[['{',\n",
       "  'a',\n",
       "  ' ',\n",
       "  'c',\n",
       "  'h',\n",
       "  'i',\n",
       "  'l',\n",
       "  'd',\n",
       "  ' ',\n",
       "  'i',\n",
       "  'n',\n",
       "  ' ',\n",
       "  'a',\n",
       "  ' ',\n",
       "  'p',\n",
       "  'i',\n",
       "  'n',\n",
       "  'k',\n",
       "  ' ',\n",
       "  'd',\n",
       "  'r',\n",
       "  'e',\n",
       "  's',\n",
       "  's',\n",
       "  ' ',\n",
       "  'i',\n",
       "  's',\n",
       "  ' ',\n",
       "  'c',\n",
       "  'l',\n",
       "  'i',\n",
       "  'm',\n",
       "  'b',\n",
       "  'i',\n",
       "  'n',\n",
       "  'g',\n",
       "  ' ',\n",
       "  'u',\n",
       "  'p',\n",
       "  ' ',\n",
       "  'a',\n",
       "  ' ',\n",
       "  's',\n",
       "  'e',\n",
       "  't',\n",
       "  ' ',\n",
       "  'o',\n",
       "  'f',\n",
       "  ' ',\n",
       "  's',\n",
       "  't',\n",
       "  'a',\n",
       "  'i',\n",
       "  'r',\n",
       "  's',\n",
       "  ' ',\n",
       "  'i',\n",
       "  'n',\n",
       "  ' ',\n",
       "  'a',\n",
       "  'n',\n",
       "  ' ',\n",
       "  'e',\n",
       "  'n',\n",
       "  't',\n",
       "  'r',\n",
       "  'y',\n",
       "  ' ',\n",
       "  'w',\n",
       "  'a',\n",
       "  'y',\n",
       "  ' ',\n",
       "  '}',\n",
       "  '@',\n",
       "  '@',\n",
       "  '@',\n",
       "  '@',\n",
       "  '@',\n",
       "  '@',\n",
       "  '@',\n",
       "  '@',\n",
       "  '@',\n",
       "  '@',\n",
       "  '@',\n",
       "  '@',\n",
       "  '@',\n",
       "  '@',\n",
       "  '@',\n",
       "  '@',\n",
       "  '@',\n",
       "  '@',\n",
       "  '@',\n",
       "  '@',\n",
       "  '@',\n",
       "  '@',\n",
       "  '@',\n",
       "  '@',\n",
       "  '@',\n",
       "  '@',\n",
       "  '@',\n",
       "  '@',\n",
       "  '@',\n",
       "  '@',\n",
       "  '@',\n",
       "  '@',\n",
       "  '@',\n",
       "  '@',\n",
       "  '@',\n",
       "  '@',\n",
       "  '@',\n",
       "  '@',\n",
       "  '@',\n",
       "  '@',\n",
       "  '@',\n",
       "  '@',\n",
       "  '@',\n",
       "  '@',\n",
       "  '@',\n",
       "  '@',\n",
       "  '@',\n",
       "  '@',\n",
       "  '@',\n",
       "  '@',\n",
       "  '@',\n",
       "  '@',\n",
       "  '@',\n",
       "  '@',\n",
       "  '@',\n",
       "  '@',\n",
       "  '@',\n",
       "  '@',\n",
       "  '@',\n",
       "  '@',\n",
       "  '@',\n",
       "  '@',\n",
       "  '@',\n",
       "  '@',\n",
       "  '@',\n",
       "  '@',\n",
       "  '@',\n",
       "  '@',\n",
       "  '@',\n",
       "  '@',\n",
       "  '@',\n",
       "  '@',\n",
       "  '@',\n",
       "  '@',\n",
       "  '@',\n",
       "  '@',\n",
       "  '@',\n",
       "  '@',\n",
       "  '@',\n",
       "  '@',\n",
       "  '@',\n",
       "  '@',\n",
       "  '@',\n",
       "  '@',\n",
       "  '@',\n",
       "  '@',\n",
       "  '@',\n",
       "  '@',\n",
       "  '@',\n",
       "  '@',\n",
       "  '@',\n",
       "  '@',\n",
       "  '@',\n",
       "  '@',\n",
       "  '@',\n",
       "  '@',\n",
       "  '@',\n",
       "  '@',\n",
       "  '@',\n",
       "  '@',\n",
       "  '@']]"
      ]
     },
     "execution_count": 20,
     "metadata": {},
     "output_type": "execute_result"
    }
   ],
   "source": [
    "get_sentence_from_onehot(onehot_creature_captions[0].unsqueeze(0),vocab)"
   ]
  },
  {
   "cell_type": "markdown",
   "metadata": {},
   "source": [
    "* VGG16"
   ]
  },
  {
   "cell_type": "markdown",
   "metadata": {},
   "source": [
    "        Load VGG16 "
   ]
  },
  {
   "cell_type": "code",
   "execution_count": 21,
   "metadata": {},
   "outputs": [],
   "source": [
    "vgg = torchvision.models.vgg16(pretrained=True)\n"
   ]
  },
  {
   "cell_type": "markdown",
   "metadata": {},
   "source": [
    "        Get the features from VGG16"
   ]
  },
  {
   "cell_type": "code",
   "execution_count": 22,
   "metadata": {},
   "outputs": [],
   "source": [
    "features = vgg.features(creature_imgs[0:5])"
   ]
  },
  {
   "cell_type": "code",
   "execution_count": 221,
   "metadata": {},
   "outputs": [],
   "source": [
    "class PositionalEncoding(nn.Module):\n",
    "    def __init__(self,dropout_rate, input_dimensions,max_sequence_len, dimension2d=False):\n",
    "        super(PositionalEncoding,self).__init__()\n",
    "        self.dropout = nn.Dropout(p=dropout_rate)\n",
    "        \n",
    "        positional_embedding = torch.zeros(input_dimensions,max_sequence_len)\n",
    "        even = torch.arange(0,input_dimensions,2)\n",
    "        odd = torch.arange(1,input_dimensions,2)\n",
    "        position = torch.arange(max_sequence_len)\n",
    "        denominator = torch.float_power(10000,even/input_dimensions)\n",
    "        positional_embedding[0::2] = torch.sin(position.unsqueeze(0)/denominator.unsqueeze(1))\n",
    "        positional_embedding[1::2] = torch.cos(position.unsqueeze(0)/denominator.unsqueeze(1))\n",
    "        horizontal_positional_embedding = positional_embedding\n",
    "        vertical_positional_embedding = positional_embedding\n",
    "        if dimension2d:\n",
    "            positional_embedding = horizontal_positional_embedding.unsqueeze(1) + vertical_positional_embedding.unsqueeze(2)\n",
    "        else:\n",
    "            positional_embedding = horizontal_positional_embedding.permute(1,0)\n",
    "        self.register_buffer(\"positional_embedding\",positional_embedding)\n",
    "        \n",
    "        \n",
    "    def forward(self,x):\n",
    "        if len(x.shape) == 3:\n",
    "            \n",
    "            x = x + self.positional_embedding[:x.shape[1],:].unsqueeze(0)\n",
    "        else:\n",
    "            x = x + self.positional_embedding[:,:x.shape[2],:x.shape[3]].unsqueeze(0)\n",
    "        return self.dropout(x)       \n",
    "        \n",
    "        \n",
    "        "
   ]
  },
  {
   "cell_type": "code",
   "execution_count": 202,
   "metadata": {},
   "outputs": [],
   "source": [
    "dimension2d = True\n",
    "positional_embedding = torch.zeros(128,300)\n",
    "even = torch.arange(0,128,2)\n",
    "odd = torch.arange(1,128,2)\n",
    "position = torch.arange(300)\n",
    "denominator = torch.float_power(10000,even/128)\n",
    "positional_embedding[0::2] = torch.sin(position.unsqueeze(0)/denominator.unsqueeze(1))\n",
    "positional_embedding[1::2] = torch.cos(position.unsqueeze(0)/denominator.unsqueeze(1))\n",
    "horizontal_positional_embedding = positional_embedding\n",
    "vertical_positional_embedding = positional_embedding\n",
    "if dimension2d:\n",
    "    positional_embedding = horizontal_positional_embedding.unsqueeze(1) + vertical_positional_embedding.unsqueeze(2)\n",
    "else:\n",
    "    positional_embedding = horizontal_positional_embedding.permute(1,0)\n",
    "        "
   ]
  },
  {
   "cell_type": "code",
   "execution_count": 200,
   "metadata": {},
   "outputs": [
    {
     "data": {
      "text/plain": [
       "torch.Size([1, 174, 51])"
      ]
     },
     "execution_count": 200,
     "metadata": {},
     "output_type": "execute_result"
    }
   ],
   "source": [
    "onehot_creature_captions[0].unsqueeze(0).shape"
   ]
  },
  {
   "cell_type": "code",
   "execution_count": 203,
   "metadata": {},
   "outputs": [
    {
     "data": {
      "text/plain": [
       "torch.Size([128, 300, 300])"
      ]
     },
     "execution_count": 203,
     "metadata": {},
     "output_type": "execute_result"
    }
   ],
   "source": [
    "positional_embedding.shape"
   ]
  },
  {
   "cell_type": "code",
   "execution_count": 193,
   "metadata": {},
   "outputs": [
    {
     "data": {
      "text/plain": [
       "torch.Size([1, 512, 7, 7])"
      ]
     },
     "execution_count": 193,
     "metadata": {},
     "output_type": "execute_result"
    }
   ],
   "source": [
    "features[0].unsqueeze(0).shape"
   ]
  },
  {
   "cell_type": "code",
   "execution_count": null,
   "metadata": {},
   "outputs": [],
   "source": []
  },
  {
   "cell_type": "code",
   "execution_count": 305,
   "metadata": {},
   "outputs": [],
   "source": [
    "class caption_transformer(nn.Module):\n",
    "    def __init__(self,num_heads,max_sequence_len):\n",
    "        super(caption_transformer,self).__init__()\n",
    "        \n",
    "        \n",
    "        self.cnn_layer = nn.Conv2d(512,128,1)\n",
    "        self.fc_layer = nn.Linear(51,128)      \n",
    "        self.transformer_layer = nn.Transformer(128,num_heads,batch_first=True,num_encoder_layers=2,num_decoder_layers=2)  \n",
    "        self.fc_layer2 = nn.Linear(128,51)\n",
    "        self.source_positional_embedding = PositionalEncoding(0.1,128,7,dimension2d=True)\n",
    "        self.target_positional_embedding = PositionalEncoding(0.1,128,max_sequence_len=max_sequence_len)\n",
    "        \n",
    "    def forward(self, inp, target,mask=True):\n",
    "        # embed the image\n",
    "        emb_inp = self.cnn_layer(inp)\n",
    "        # positional embedding for source\n",
    "        emb_inp = self.source_positional_embedding(emb_inp)\n",
    "        # embed the text\n",
    "        emb_target = self.fc_layer(target)\n",
    "        # positional embedding for target\n",
    "        emb_target = self.target_positional_embedding(emb_target) if mask else emb_target\n",
    "        N = emb_inp.shape[0]\n",
    "        dim = emb_inp.shape[1] \n",
    "        emb_inp = emb_inp.view(N,dim,-1)\n",
    "        emb_inp = torch.transpose(emb_inp, 1,2)\n",
    "        \n",
    "        tgt_mask = self.make_tgt_mask(target) if mask else None\n",
    "            \n",
    "        \n",
    "        out = self.transformer_layer(emb_inp,emb_target,tgt_mask=tgt_mask)\n",
    "        out = self.fc_layer2(out)\n",
    "        return out\n",
    "        \n",
    "    def make_tgt_mask(self,tgt):\n",
    "        M, N, tgt_len = tgt.shape\n",
    "        tgt_mask = torch.tril(torch.ones((N,N)) ==1)\n",
    "        tgt_mask = tgt_mask.float()\n",
    "        tgt_mask = tgt_mask.masked_fill(tgt_mask==0, float('-inf'))\n",
    "        tgt_mask = tgt_mask.masked_fill(tgt_mask ==1, float(0.0)) \n",
    "        return tgt_mask\n",
    "        \n",
    "        "
   ]
  },
  {
   "cell_type": "code",
   "execution_count": 25,
   "metadata": {},
   "outputs": [
    {
     "data": {
      "text/plain": [
       "torch.Size([5, 512, 7, 7])"
      ]
     },
     "execution_count": 25,
     "metadata": {},
     "output_type": "execute_result"
    }
   ],
   "source": [
    "features.shape"
   ]
  },
  {
   "cell_type": "code",
   "execution_count": 26,
   "metadata": {},
   "outputs": [],
   "source": [
    "target = onehot_creature_captions[:5]"
   ]
  },
  {
   "cell_type": "code",
   "execution_count": 27,
   "metadata": {},
   "outputs": [],
   "source": [
    "class My_Dataset(torch.utils.data.Dataset):\n",
    "    def __init__(self, source, target):\n",
    "        self.datasetA = source\n",
    "        self.datasetB = target\n",
    "    \n",
    "    def __getitem__(self, index):\n",
    "        xA = self.datasetA[index]\n",
    "        xB = self.datasetB[index]\n",
    "        return xA, xB\n",
    "    \n",
    "    def __len__(self):\n",
    "        return len(self.datasetA)"
   ]
  },
  {
   "cell_type": "code",
   "execution_count": 28,
   "metadata": {},
   "outputs": [],
   "source": [
    "creature_dataset = My_Dataset(features,target)"
   ]
  },
  {
   "cell_type": "code",
   "execution_count": 119,
   "metadata": {},
   "outputs": [
    {
     "name": "stdout",
     "output_type": "stream",
     "text": [
      "torch.Size([512, 7, 7]) torch.Size([174, 51])\n"
     ]
    }
   ],
   "source": [
    "for i in creature_dataset:\n",
    "    print(i[0].shape, i[1].shape)\n",
    "    break"
   ]
  },
  {
   "cell_type": "code",
   "execution_count": 547,
   "metadata": {},
   "outputs": [],
   "source": [
    "def get_accuracy(model, data,batch_size = 100):\n",
    "    mini_batch = batcher(data,batch_size)\n",
    "    num = 0\n",
    "    correct = 0\n",
    "    for x,tokens in mini_batch:\n",
    "        y = get_padded_onehot_from_token([torch.Tensor(i) for i in tokens])\n",
    "        N, S, W = y.shape \n",
    "        num+=N*S\n",
    "        out = model(x,y[:,:-1,:])\n",
    "        correct += torch.sum(torch.argmax(out,2) == torch.argmax(y[:,1:,:],2))\n",
    "    return correct/num"
   ]
  },
  {
   "cell_type": "code",
   "execution_count": 419,
   "metadata": {},
   "outputs": [],
   "source": [
    "a = np.arange(10)"
   ]
  },
  {
   "cell_type": "code",
   "execution_count": 420,
   "metadata": {},
   "outputs": [],
   "source": [
    "np.random.shuffle(a)"
   ]
  },
  {
   "cell_type": "code",
   "execution_count": 421,
   "metadata": {},
   "outputs": [
    {
     "data": {
      "text/plain": [
       "array([8, 7, 6, 5, 1, 9, 3, 0, 2, 4])"
      ]
     },
     "execution_count": 421,
     "metadata": {},
     "output_type": "execute_result"
    }
   ],
   "source": [
    "a"
   ]
  },
  {
   "cell_type": "code",
   "execution_count": 453,
   "metadata": {},
   "outputs": [],
   "source": [
    "N = 1\n",
    "M = 32"
   ]
  },
  {
   "cell_type": "code",
   "execution_count": 445,
   "metadata": {},
   "outputs": [],
   "source": [
    "batch_indices = torch.LongTensor( np.random.randint(0,N+1,size=M) )"
   ]
  },
  {
   "cell_type": "code",
   "execution_count": 495,
   "metadata": {},
   "outputs": [
    {
     "data": {
      "text/plain": [
       "array([0, 1, 1, 0, 0, 0, 1, 1, 0, 0, 0, 1, 0, 0, 0, 0, 1, 1, 0, 0, 0, 0,\n",
       "       1, 1, 0, 0, 1, 1, 0, 1, 1, 0])"
      ]
     },
     "execution_count": 495,
     "metadata": {},
     "output_type": "execute_result"
    }
   ],
   "source": [
    "np.random.randint(0,N+1,size=M)"
   ]
  },
  {
   "cell_type": "code",
   "execution_count": 489,
   "metadata": {},
   "outputs": [],
   "source": [
    "a = np.arange(10)"
   ]
  },
  {
   "cell_type": "code",
   "execution_count": 490,
   "metadata": {},
   "outputs": [
    {
     "data": {
      "text/plain": [
       "array([0, 1, 2, 3, 4, 5, 6, 7, 8, 9])"
      ]
     },
     "execution_count": 490,
     "metadata": {},
     "output_type": "execute_result"
    }
   ],
   "source": [
    "a"
   ]
  },
  {
   "cell_type": "code",
   "execution_count": 491,
   "metadata": {},
   "outputs": [],
   "source": [
    "new = []\n",
    "index = 0\n",
    "while index <len(a):\n",
    "    new.append(a[index:index+3])\n",
    "    index += 3\n"
   ]
  },
  {
   "cell_type": "code",
   "execution_count": 494,
   "metadata": {},
   "outputs": [
    {
     "data": {
      "text/plain": [
       "4"
      ]
     },
     "execution_count": 494,
     "metadata": {},
     "output_type": "execute_result"
    }
   ],
   "source": [
    "np.random.randint(10)"
   ]
  },
  {
   "cell_type": "code",
   "execution_count": null,
   "metadata": {},
   "outputs": [],
   "source": []
  },
  {
   "cell_type": "code",
   "execution_count": 496,
   "metadata": {},
   "outputs": [],
   "source": [
    "def batcher(data,batch_size):\n",
    "    \n",
    "    new = []\n",
    "    index = 0\n",
    "    indexes = np.arange(len(data))\n",
    "    np.random.shuffle(indexes)\n",
    "    while index < len(data):\n",
    "        new.append(data[indexes[index:index+batch_size]])\n",
    "        index+= batch_size\n",
    "    return new\n",
    "        "
   ]
  },
  {
   "cell_type": "code",
   "execution_count": 513,
   "metadata": {},
   "outputs": [
    {
     "ename": "TypeError",
     "evalue": "only integer scalar arrays can be converted to a scalar index",
     "output_type": "error",
     "traceback": [
      "\u001b[1;31m---------------------------------------------------------------------------\u001b[0m",
      "\u001b[1;31mTypeError\u001b[0m                                 Traceback (most recent call last)",
      "\u001b[1;32mc:\\Documents\\SynologyDrive\\School\\Year 3\\CSC413\\Assignments\\project\\CSC413-final-project\\models.ipynb Cell 66'\u001b[0m in \u001b[0;36m<module>\u001b[1;34m\u001b[0m\n\u001b[1;32m----> <a href='vscode-notebook-cell:/c%3A/Documents/SynologyDrive/School/Year%203/CSC413/Assignments/project/CSC413-final-project/models.ipynb#ch0000169?line=0'>1</a>\u001b[0m out \u001b[39m=\u001b[39m batcher(tiny_train_data,\u001b[39m32\u001b[39;49m)\n",
      "\u001b[1;32mc:\\Documents\\SynologyDrive\\School\\Year 3\\CSC413\\Assignments\\project\\CSC413-final-project\\models.ipynb Cell 65'\u001b[0m in \u001b[0;36mbatcher\u001b[1;34m(data, batch_size)\u001b[0m\n\u001b[0;32m      <a href='vscode-notebook-cell:/c%3A/Documents/SynologyDrive/School/Year%203/CSC413/Assignments/project/CSC413-final-project/models.ipynb#ch0000147?line=5'>6</a>\u001b[0m np\u001b[39m.\u001b[39mrandom\u001b[39m.\u001b[39mshuffle(indexes)\n\u001b[0;32m      <a href='vscode-notebook-cell:/c%3A/Documents/SynologyDrive/School/Year%203/CSC413/Assignments/project/CSC413-final-project/models.ipynb#ch0000147?line=6'>7</a>\u001b[0m \u001b[39mwhile\u001b[39;00m index \u001b[39m<\u001b[39m \u001b[39mlen\u001b[39m(data):\n\u001b[1;32m----> <a href='vscode-notebook-cell:/c%3A/Documents/SynologyDrive/School/Year%203/CSC413/Assignments/project/CSC413-final-project/models.ipynb#ch0000147?line=7'>8</a>\u001b[0m     new\u001b[39m.\u001b[39mappend(data[indexes[index:index\u001b[39m+\u001b[39;49mbatch_size]])\n\u001b[0;32m      <a href='vscode-notebook-cell:/c%3A/Documents/SynologyDrive/School/Year%203/CSC413/Assignments/project/CSC413-final-project/models.ipynb#ch0000147?line=8'>9</a>\u001b[0m     index\u001b[39m+\u001b[39m\u001b[39m=\u001b[39m batch_size\n\u001b[0;32m     <a href='vscode-notebook-cell:/c%3A/Documents/SynologyDrive/School/Year%203/CSC413/Assignments/project/CSC413-final-project/models.ipynb#ch0000147?line=9'>10</a>\u001b[0m \u001b[39mreturn\u001b[39;00m new\n",
      "\u001b[1;32mc:\\Documents\\SynologyDrive\\School\\Year 3\\CSC413\\Assignments\\project\\CSC413-final-project\\models.ipynb Cell 50'\u001b[0m in \u001b[0;36mMy_Dataset.__getitem__\u001b[1;34m(self, index)\u001b[0m\n\u001b[0;32m      <a href='vscode-notebook-cell:/c%3A/Documents/SynologyDrive/School/Year%203/CSC413/Assignments/project/CSC413-final-project/models.ipynb#ch0000036?line=5'>6</a>\u001b[0m \u001b[39mdef\u001b[39;00m \u001b[39m__getitem__\u001b[39m(\u001b[39mself\u001b[39m, index):\n\u001b[0;32m      <a href='vscode-notebook-cell:/c%3A/Documents/SynologyDrive/School/Year%203/CSC413/Assignments/project/CSC413-final-project/models.ipynb#ch0000036?line=6'>7</a>\u001b[0m     xA \u001b[39m=\u001b[39m \u001b[39mself\u001b[39m\u001b[39m.\u001b[39mdatasetA[index]\n\u001b[1;32m----> <a href='vscode-notebook-cell:/c%3A/Documents/SynologyDrive/School/Year%203/CSC413/Assignments/project/CSC413-final-project/models.ipynb#ch0000036?line=7'>8</a>\u001b[0m     xB \u001b[39m=\u001b[39m \u001b[39mself\u001b[39;49m\u001b[39m.\u001b[39;49mdatasetB[index]\n\u001b[0;32m      <a href='vscode-notebook-cell:/c%3A/Documents/SynologyDrive/School/Year%203/CSC413/Assignments/project/CSC413-final-project/models.ipynb#ch0000036?line=8'>9</a>\u001b[0m     \u001b[39mreturn\u001b[39;00m xA, xB\n",
      "\u001b[1;31mTypeError\u001b[0m: only integer scalar arrays can be converted to a scalar index"
     ]
    }
   ],
   "source": [
    "out = batcher(tiny_train_data,32)"
   ]
  },
  {
   "cell_type": "code",
   "execution_count": 505,
   "metadata": {},
   "outputs": [
    {
     "data": {
      "text/plain": [
       "array([list([48, 28, 44, 24, 30, 28, 3, 37, 44, 17, 18, 26, 44, 28, 42, 17, 44, 28, 44, 16, 0, 18, 29, 29, 21, 17, 44, 17, 18, 26, 44, 28, 23, 21, 44, 25, 22, 26, 34, 29, 22, 42, 49]),\n",
       "       list([48, 28, 44, 3, 34, 22, 30, 17, 44, 22, 42, 44, 28, 44, 0, 22, 42, 37, 44, 17, 23, 21, 16, 16, 44, 22, 16, 44, 3, 30, 22, 46, 24, 22, 42, 26, 44, 14, 0, 44, 28, 44, 16, 21, 29, 44, 18, 25, 44, 16, 29, 28, 22, 23, 16, 44, 22, 42, 44, 28, 42, 44, 21, 42, 29, 23, 19, 44, 8, 28, 19, 44, 49])],\n",
       "      dtype=object)"
      ]
     },
     "execution_count": 505,
     "metadata": {},
     "output_type": "execute_result"
    }
   ],
   "source": [
    "out[0][1]"
   ]
  },
  {
   "cell_type": "code",
   "execution_count": 549,
   "metadata": {},
   "outputs": [],
   "source": [
    "def train(model, train_data,valid_data, num_epoches=10, batch_size=30, learning_rate = 0.1, weight_decay = 0):\n",
    "    \n",
    "    criterion = nn.CrossEntropyLoss()\n",
    "    optimizer = optim.Adam(model.parameters(),lr = learning_rate, weight_decay=weight_decay)\n",
    "    train_accs, val_accs  = [], [] \n",
    "    iters, losses = [], []\n",
    "    n=0\n",
    "    for epoch in range(num_epoches):\n",
    "        mini_batch = batcher(train_data, batch_size=batch_size)\n",
    "        num_update = 0\n",
    "      \n",
    "        for x,tokens in mini_batch:  \n",
    "            model.train()\n",
    "            num_update += 1\n",
    "            \n",
    "            t = get_padded_onehot_from_token([torch.Tensor(i) for i in tokens])\n",
    "            \n",
    "            y = model(x,t[:,:-1,:])\n",
    "            loss = criterion(y,t[:,1:,:])\n",
    "            \n",
    "            loss.backward(retain_graph= True)\n",
    "            \n",
    "            optimizer.step()\n",
    "       \n",
    "        \n",
    "            optimizer.zero_grad()\n",
    "            \n",
    "            train_cost = float(loss.detach().numpy())\n",
    "            train_acc = get_accuracy(model, train_data)\n",
    "            val_acc = get_accuracy(model, valid_data)\n",
    "            n+=1\n",
    "            iter = n\n",
    "            print(\"Iter %d. [Val Acc %.0f%%] [Train Acc %.0f%%, Loss %f]\" % (\n",
    "                        iter, val_acc * 100, train_acc * 100, train_cost))\n",
    "            iters.append(n)\n",
    "            losses.append(loss)\n",
    "            train_accs.append(train_acc)\n",
    "            val_accs.append(val_acc)\n",
    "        \n",
    "    plt.title(\"Training curve\")\n",
    "    plt.plot(iters, train_accs, label = \"Train\")\n",
    "    plt.plot(iters, val_accs, label = \"Valid\")\n",
    "    plt.xlabel(\"Iterations\")\n",
    "    plt.ylabel(\"Accuracy\")\n",
    "    plt.legend(loc='best')\n",
    "    plt.show()"
   ]
  },
  {
   "cell_type": "code",
   "execution_count": 285,
   "metadata": {},
   "outputs": [],
   "source": [
    "def generate_captions(source,model):\n",
    "    \n",
    "    start = torch.Tensor([[[0., 0., 0., 0., 0., 0., 0., 0., 0., 0., 0., 0., 0., 0., 0., 0., 0.,\n",
    "          0., 0., 0., 0., 0., 0., 0., 0., 0., 0., 0., 0., 0., 0., 0., 0., 0.,\n",
    "          0., 0., 0., 0., 0., 0., 0., 0., 0., 0., 0., 0., 0., 0., 1., 0., 0.]]])\n",
    "\n",
    "    temp = start\n",
    "    for i in range(200):\n",
    "\n",
    "        inter = model(source.unsqueeze(0),temp,mask = False)\n",
    " \n",
    "        combine = torch.cat((temp,inter[:,-1,:].unsqueeze(0)),dim=1)\n",
    "        temp = combine\n",
    "        \n",
    "    readable = get_sentence_from_onehot(temp,vocab)\n",
    "    return readable"
   ]
  },
  {
   "cell_type": "code",
   "execution_count": 560,
   "metadata": {},
   "outputs": [],
   "source": [
    "big_features = vgg.features(creature_imgs[:200])"
   ]
  },
  {
   "cell_type": "code",
   "execution_count": 561,
   "metadata": {},
   "outputs": [],
   "source": [
    "tiny_train_data = My_Dataset(big_features, token_creature_captions[:200])"
   ]
  },
  {
   "cell_type": "code",
   "execution_count": 565,
   "metadata": {},
   "outputs": [
    {
     "name": "stdout",
     "output_type": "stream",
     "text": [
      "Iter 1. [Val Acc 15%] [Train Acc 15%, Loss 7.501714]\n",
      "Iter 2. [Val Acc 45%] [Train Acc 45%, Loss 5.019382]\n",
      "Iter 3. [Val Acc 56%] [Train Acc 56%, Loss 4.912874]\n",
      "Iter 4. [Val Acc 59%] [Train Acc 59%, Loss 6.071642]\n",
      "Iter 5. [Val Acc 60%] [Train Acc 59%, Loss 5.280270]\n",
      "Iter 6. [Val Acc 60%] [Train Acc 60%, Loss 7.837480]\n",
      "Iter 7. [Val Acc 59%] [Train Acc 58%, Loss 7.086214]\n",
      "Iter 8. [Val Acc 24%] [Train Acc 24%, Loss 7.440562]\n",
      "Iter 9. [Val Acc 3%] [Train Acc 3%, Loss 4.530184]\n",
      "Iter 10. [Val Acc 3%] [Train Acc 4%, Loss 6.224147]\n",
      "Iter 11. [Val Acc 4%] [Train Acc 5%, Loss 5.064538]\n",
      "Iter 12. [Val Acc 53%] [Train Acc 53%, Loss 5.827535]\n",
      "Iter 13. [Val Acc 61%] [Train Acc 61%, Loss 6.811325]\n",
      "Iter 14. [Val Acc 60%] [Train Acc 61%, Loss 7.467872]\n",
      "Iter 15. [Val Acc 60%] [Train Acc 60%, Loss 8.133848]\n",
      "Iter 16. [Val Acc 60%] [Train Acc 60%, Loss 4.937222]\n",
      "Iter 17. [Val Acc 60%] [Train Acc 60%, Loss 9.992778]\n",
      "Iter 18. [Val Acc 56%] [Train Acc 59%, Loss 5.086591]\n",
      "Iter 19. [Val Acc 58%] [Train Acc 58%, Loss 5.332692]\n",
      "Iter 20. [Val Acc 56%] [Train Acc 57%, Loss 5.057350]\n",
      "Iter 21. [Val Acc 25%] [Train Acc 25%, Loss 10.007485]\n",
      "Iter 22. [Val Acc 38%] [Train Acc 40%, Loss 14.063148]\n",
      "Iter 23. [Val Acc 48%] [Train Acc 47%, Loss 4.480050]\n",
      "Iter 24. [Val Acc 49%] [Train Acc 52%, Loss 7.100383]\n",
      "Iter 25. [Val Acc 53%] [Train Acc 52%, Loss 7.688012]\n",
      "Iter 26. [Val Acc 43%] [Train Acc 43%, Loss 7.921987]\n",
      "Iter 27. [Val Acc 32%] [Train Acc 32%, Loss 9.673822]\n",
      "Iter 28. [Val Acc 30%] [Train Acc 29%, Loss 8.303755]\n",
      "Iter 29. [Val Acc 34%] [Train Acc 34%, Loss 3.786407]\n",
      "Iter 30. [Val Acc 51%] [Train Acc 51%, Loss 7.371158]\n",
      "Iter 31. [Val Acc 59%] [Train Acc 59%, Loss 9.877442]\n",
      "Iter 32. [Val Acc 61%] [Train Acc 58%, Loss 4.305912]\n",
      "Iter 33. [Val Acc 62%] [Train Acc 62%, Loss 5.547568]\n",
      "Iter 34. [Val Acc 63%] [Train Acc 62%, Loss 6.519487]\n",
      "Iter 35. [Val Acc 62%] [Train Acc 62%, Loss 4.795179]\n",
      "Iter 36. [Val Acc 53%] [Train Acc 53%, Loss 14.011514]\n",
      "Iter 37. [Val Acc 36%] [Train Acc 35%, Loss 6.823372]\n",
      "Iter 38. [Val Acc 38%] [Train Acc 39%, Loss 9.533050]\n",
      "Iter 39. [Val Acc 58%] [Train Acc 56%, Loss 7.330779]\n",
      "Iter 40. [Val Acc 65%] [Train Acc 65%, Loss 5.059042]\n",
      "Iter 41. [Val Acc 64%] [Train Acc 64%, Loss 6.709495]\n",
      "Iter 42. [Val Acc 64%] [Train Acc 64%, Loss 6.434847]\n",
      "Iter 43. [Val Acc 62%] [Train Acc 63%, Loss 7.439501]\n",
      "Iter 44. [Val Acc 62%] [Train Acc 59%, Loss 3.616616]\n",
      "Iter 45. [Val Acc 62%] [Train Acc 62%, Loss 7.595359]\n",
      "Iter 46. [Val Acc 59%] [Train Acc 61%, Loss 7.569603]\n",
      "Iter 47. [Val Acc 59%] [Train Acc 59%, Loss 7.194341]\n",
      "Iter 48. [Val Acc 58%] [Train Acc 57%, Loss 5.348629]\n",
      "Iter 49. [Val Acc 57%] [Train Acc 60%, Loss 6.893861]\n",
      "Iter 50. [Val Acc 64%] [Train Acc 64%, Loss 7.638382]\n",
      "Iter 51. [Val Acc 64%] [Train Acc 64%, Loss 5.423528]\n",
      "Iter 52. [Val Acc 61%] [Train Acc 59%, Loss 8.017865]\n",
      "Iter 53. [Val Acc 60%] [Train Acc 60%, Loss 6.884027]\n",
      "Iter 54. [Val Acc 63%] [Train Acc 63%, Loss 6.346940]\n",
      "Iter 55. [Val Acc 67%] [Train Acc 67%, Loss 4.185497]\n",
      "Iter 56. [Val Acc 65%] [Train Acc 64%, Loss 5.615738]\n",
      "Iter 57. [Val Acc 63%] [Train Acc 60%, Loss 4.260758]\n",
      "Iter 58. [Val Acc 61%] [Train Acc 64%, Loss 5.808166]\n",
      "Iter 59. [Val Acc 67%] [Train Acc 67%, Loss 5.040468]\n",
      "Iter 60. [Val Acc 68%] [Train Acc 68%, Loss 7.133326]\n",
      "Iter 61. [Val Acc 65%] [Train Acc 64%, Loss 7.527673]\n",
      "Iter 62. [Val Acc 67%] [Train Acc 67%, Loss 6.393442]\n",
      "Iter 63. [Val Acc 65%] [Train Acc 68%, Loss 9.280522]\n",
      "Iter 64. [Val Acc 68%] [Train Acc 68%, Loss 6.126503]\n",
      "Iter 65. [Val Acc 61%] [Train Acc 63%, Loss 5.379383]\n",
      "Iter 66. [Val Acc 69%] [Train Acc 69%, Loss 13.298815]\n",
      "Iter 67. [Val Acc 70%] [Train Acc 69%, Loss 7.096634]\n",
      "Iter 68. [Val Acc 69%] [Train Acc 70%, Loss 3.915663]\n",
      "Iter 69. [Val Acc 66%] [Train Acc 69%, Loss 4.100464]\n",
      "Iter 70. [Val Acc 67%] [Train Acc 68%, Loss 4.020163]\n",
      "Iter 71. [Val Acc 68%] [Train Acc 69%, Loss 7.160417]\n",
      "Iter 72. [Val Acc 69%] [Train Acc 69%, Loss 6.093695]\n",
      "Iter 73. [Val Acc 70%] [Train Acc 70%, Loss 3.944674]\n",
      "Iter 74. [Val Acc 70%] [Train Acc 70%, Loss 7.115790]\n",
      "Iter 75. [Val Acc 69%] [Train Acc 69%, Loss 3.931188]\n",
      "Iter 76. [Val Acc 68%] [Train Acc 68%, Loss 8.954561]\n",
      "Iter 77. [Val Acc 68%] [Train Acc 68%, Loss 4.633535]\n",
      "Iter 78. [Val Acc 67%] [Train Acc 67%, Loss 5.024375]\n",
      "Iter 79. [Val Acc 70%] [Train Acc 70%, Loss 4.269438]\n",
      "Iter 80. [Val Acc 70%] [Train Acc 70%, Loss 8.676007]\n",
      "Iter 81. [Val Acc 70%] [Train Acc 70%, Loss 5.306197]\n",
      "Iter 82. [Val Acc 69%] [Train Acc 68%, Loss 5.354829]\n",
      "Iter 83. [Val Acc 69%] [Train Acc 69%, Loss 7.048159]\n",
      "Iter 84. [Val Acc 69%] [Train Acc 69%, Loss 4.374514]\n",
      "Iter 85. [Val Acc 69%] [Train Acc 69%, Loss 6.765840]\n",
      "Iter 86. [Val Acc 70%] [Train Acc 70%, Loss 6.197176]\n",
      "Iter 87. [Val Acc 70%] [Train Acc 70%, Loss 4.729427]\n",
      "Iter 88. [Val Acc 70%] [Train Acc 68%, Loss 4.702011]\n",
      "Iter 89. [Val Acc 70%] [Train Acc 70%, Loss 6.710620]\n",
      "Iter 90. [Val Acc 70%] [Train Acc 68%, Loss 6.007680]\n",
      "Iter 91. [Val Acc 67%] [Train Acc 65%, Loss 6.129905]\n",
      "Iter 92. [Val Acc 66%] [Train Acc 66%, Loss 5.249274]\n",
      "Iter 93. [Val Acc 68%] [Train Acc 66%, Loss 4.057707]\n",
      "Iter 94. [Val Acc 70%] [Train Acc 70%, Loss 6.566706]\n",
      "Iter 95. [Val Acc 68%] [Train Acc 71%, Loss 8.667746]\n",
      "Iter 96. [Val Acc 68%] [Train Acc 71%, Loss 4.648106]\n",
      "Iter 97. [Val Acc 70%] [Train Acc 70%, Loss 8.926824]\n",
      "Iter 98. [Val Acc 69%] [Train Acc 69%, Loss 4.476231]\n",
      "Iter 99. [Val Acc 68%] [Train Acc 68%, Loss 7.012486]\n",
      "Iter 100. [Val Acc 67%] [Train Acc 69%, Loss 6.842405]\n",
      "Iter 101. [Val Acc 69%] [Train Acc 69%, Loss 4.321385]\n",
      "Iter 102. [Val Acc 68%] [Train Acc 68%, Loss 6.796298]\n",
      "Iter 103. [Val Acc 69%] [Train Acc 69%, Loss 6.626038]\n",
      "Iter 104. [Val Acc 70%] [Train Acc 69%, Loss 3.782881]\n",
      "Iter 105. [Val Acc 70%] [Train Acc 70%, Loss 8.701200]\n",
      "Iter 106. [Val Acc 70%] [Train Acc 70%, Loss 6.564717]\n",
      "Iter 107. [Val Acc 70%] [Train Acc 70%, Loss 6.268808]\n",
      "Iter 108. [Val Acc 67%] [Train Acc 69%, Loss 7.078660]\n",
      "Iter 109. [Val Acc 69%] [Train Acc 67%, Loss 3.075238]\n",
      "Iter 110. [Val Acc 66%] [Train Acc 69%, Loss 12.846526]\n",
      "Iter 111. [Val Acc 70%] [Train Acc 70%, Loss 5.673777]\n",
      "Iter 112. [Val Acc 70%] [Train Acc 70%, Loss 5.819991]\n",
      "Iter 113. [Val Acc 67%] [Train Acc 69%, Loss 3.882845]\n",
      "Iter 114. [Val Acc 70%] [Train Acc 70%, Loss 7.283711]\n",
      "Iter 115. [Val Acc 70%] [Train Acc 70%, Loss 5.643119]\n",
      "Iter 116. [Val Acc 70%] [Train Acc 70%, Loss 4.144486]\n",
      "Iter 117. [Val Acc 68%] [Train Acc 70%, Loss 5.948553]\n",
      "Iter 118. [Val Acc 71%] [Train Acc 69%, Loss 7.343176]\n",
      "Iter 119. [Val Acc 71%] [Train Acc 71%, Loss 4.923021]\n",
      "Iter 120. [Val Acc 70%] [Train Acc 70%, Loss 12.639966]\n",
      "Iter 121. [Val Acc 70%] [Train Acc 70%, Loss 4.410583]\n",
      "Iter 122. [Val Acc 70%] [Train Acc 70%, Loss 5.632886]\n",
      "Iter 123. [Val Acc 71%] [Train Acc 70%, Loss 6.591118]\n",
      "Iter 124. [Val Acc 70%] [Train Acc 71%, Loss 8.749187]\n",
      "Iter 125. [Val Acc 71%] [Train Acc 69%, Loss 8.540772]\n",
      "Iter 126. [Val Acc 70%] [Train Acc 70%, Loss 4.149380]\n",
      "Iter 127. [Val Acc 70%] [Train Acc 70%, Loss 5.109101]\n",
      "Iter 128. [Val Acc 70%] [Train Acc 70%, Loss 3.616521]\n",
      "Iter 129. [Val Acc 71%] [Train Acc 70%, Loss 6.002120]\n",
      "Iter 130. [Val Acc 70%] [Train Acc 70%, Loss 4.506444]\n",
      "Iter 131. [Val Acc 71%] [Train Acc 70%, Loss 6.929035]\n",
      "Iter 132. [Val Acc 70%] [Train Acc 70%, Loss 5.683349]\n",
      "Iter 133. [Val Acc 70%] [Train Acc 70%, Loss 6.738585]\n",
      "Iter 134. [Val Acc 70%] [Train Acc 70%, Loss 8.486092]\n",
      "Iter 135. [Val Acc 71%] [Train Acc 71%, Loss 6.768933]\n",
      "Iter 136. [Val Acc 71%] [Train Acc 71%, Loss 4.941468]\n",
      "Iter 137. [Val Acc 71%] [Train Acc 71%, Loss 5.922809]\n",
      "Iter 138. [Val Acc 71%] [Train Acc 71%, Loss 3.202973]\n",
      "Iter 139. [Val Acc 71%] [Train Acc 71%, Loss 3.681041]\n",
      "Iter 140. [Val Acc 70%] [Train Acc 70%, Loss 6.282963]\n",
      "Iter 141. [Val Acc 71%] [Train Acc 70%, Loss 6.648551]\n",
      "Iter 142. [Val Acc 70%] [Train Acc 67%, Loss 5.101758]\n",
      "Iter 143. [Val Acc 69%] [Train Acc 69%, Loss 6.456981]\n",
      "Iter 144. [Val Acc 70%] [Train Acc 67%, Loss 5.744073]\n",
      "Iter 145. [Val Acc 70%] [Train Acc 70%, Loss 4.872946]\n",
      "Iter 146. [Val Acc 71%] [Train Acc 70%, Loss 6.393692]\n",
      "Iter 147. [Val Acc 71%] [Train Acc 70%, Loss 6.570395]\n",
      "Iter 148. [Val Acc 70%] [Train Acc 70%, Loss 8.445064]\n",
      "Iter 149. [Val Acc 70%] [Train Acc 69%, Loss 6.315129]\n",
      "Iter 150. [Val Acc 69%] [Train Acc 69%, Loss 4.751920]\n",
      "Iter 151. [Val Acc 69%] [Train Acc 69%, Loss 6.633513]\n",
      "Iter 152. [Val Acc 69%] [Train Acc 69%, Loss 4.122236]\n",
      "Iter 153. [Val Acc 69%] [Train Acc 70%, Loss 4.756288]\n",
      "Iter 154. [Val Acc 69%] [Train Acc 69%, Loss 6.737607]\n",
      "Iter 155. [Val Acc 70%] [Train Acc 70%, Loss 5.144875]\n",
      "Iter 156. [Val Acc 70%] [Train Acc 71%, Loss 4.656951]\n",
      "Iter 157. [Val Acc 71%] [Train Acc 70%, Loss 3.784359]\n",
      "Iter 158. [Val Acc 71%] [Train Acc 71%, Loss 4.353310]\n",
      "Iter 159. [Val Acc 69%] [Train Acc 67%, Loss 8.997332]\n",
      "Iter 160. [Val Acc 66%] [Train Acc 68%, Loss 6.424174]\n",
      "Iter 161. [Val Acc 69%] [Train Acc 69%, Loss 3.295222]\n",
      "Iter 162. [Val Acc 70%] [Train Acc 70%, Loss 5.608823]\n",
      "Iter 163. [Val Acc 70%] [Train Acc 70%, Loss 7.067977]\n",
      "Iter 164. [Val Acc 70%] [Train Acc 70%, Loss 3.598863]\n",
      "Iter 165. [Val Acc 70%] [Train Acc 70%, Loss 3.636958]\n",
      "Iter 166. [Val Acc 70%] [Train Acc 70%, Loss 5.999678]\n",
      "Iter 167. [Val Acc 68%] [Train Acc 70%, Loss 4.168180]\n",
      "Iter 168. [Val Acc 70%] [Train Acc 70%, Loss 4.456866]\n",
      "Iter 169. [Val Acc 70%] [Train Acc 70%, Loss 5.041300]\n",
      "Iter 170. [Val Acc 70%] [Train Acc 68%, Loss 5.734418]\n",
      "Iter 171. [Val Acc 71%] [Train Acc 68%, Loss 12.556798]\n",
      "Iter 172. [Val Acc 70%] [Train Acc 70%, Loss 8.436962]\n",
      "Iter 173. [Val Acc 69%] [Train Acc 70%, Loss 6.031783]\n",
      "Iter 174. [Val Acc 67%] [Train Acc 69%, Loss 5.923272]\n",
      "Iter 175. [Val Acc 70%] [Train Acc 70%, Loss 6.419415]\n",
      "Iter 176. [Val Acc 70%] [Train Acc 71%, Loss 5.873315]\n",
      "Iter 177. [Val Acc 71%] [Train Acc 71%, Loss 3.516506]\n",
      "Iter 178. [Val Acc 70%] [Train Acc 70%, Loss 4.216020]\n",
      "Iter 179. [Val Acc 65%] [Train Acc 68%, Loss 4.236575]\n",
      "Iter 180. [Val Acc 67%] [Train Acc 65%, Loss 8.608739]\n",
      "Iter 181. [Val Acc 68%] [Train Acc 68%, Loss 4.838888]\n",
      "Iter 182. [Val Acc 66%] [Train Acc 69%, Loss 3.521760]\n",
      "Iter 183. [Val Acc 69%] [Train Acc 67%, Loss 6.781194]\n",
      "Iter 184. [Val Acc 69%] [Train Acc 69%, Loss 3.265672]\n",
      "Iter 185. [Val Acc 69%] [Train Acc 69%, Loss 5.597654]\n",
      "Iter 186. [Val Acc 67%] [Train Acc 70%, Loss 3.770875]\n",
      "Iter 187. [Val Acc 69%] [Train Acc 69%, Loss 6.100576]\n",
      "Iter 188. [Val Acc 69%] [Train Acc 69%, Loss 3.912168]\n",
      "Iter 189. [Val Acc 70%] [Train Acc 70%, Loss 6.381855]\n",
      "Iter 190. [Val Acc 70%] [Train Acc 70%, Loss 4.924479]\n",
      "Iter 191. [Val Acc 70%] [Train Acc 70%, Loss 6.427495]\n"
     ]
    }
   ],
   "source": [
    "tiny_transformer = caption_transformer(8,200)\n",
    "train(tiny_transformer,tiny_train_data,tiny_train_data,100,learning_rate=0.001,batch_size=7)"
   ]
  },
  {
   "cell_type": "code",
   "execution_count": 554,
   "metadata": {},
   "outputs": [],
   "source": [
    "out = generate_captions(features[0],tiny_transformer)"
   ]
  },
  {
   "cell_type": "code",
   "execution_count": 555,
   "metadata": {},
   "outputs": [
    {
     "data": {
      "text/plain": [
       "'{a m m n m m m m m mem nen memen mem mememen mememem m m m mem memem men cem men m m memen men m c menen m m memem m m m m menemem m m menemem c m cemem m cem m mec m m m mem m m m m m m m m mem mem me'"
      ]
     },
     "execution_count": 555,
     "metadata": {},
     "output_type": "execute_result"
    }
   ],
   "source": [
    "''.join(out[0])"
   ]
  },
  {
   "cell_type": "code",
   "execution_count": 124,
   "metadata": {},
   "outputs": [
    {
     "data": {
      "text/plain": [
       "torch.Size([73])"
      ]
     },
     "execution_count": 124,
     "metadata": {},
     "output_type": "execute_result"
    }
   ],
   "source": [
    "token_creature_captions[0].shape"
   ]
  },
  {
   "cell_type": "code",
   "execution_count": 538,
   "metadata": {},
   "outputs": [
    {
     "name": "stdout",
     "output_type": "stream",
     "text": [
      "tensor([[[0., 0., 0.,  ..., 1., 0., 0.],\n",
      "         [0., 0., 0.,  ..., 0., 0., 0.],\n",
      "         [0., 0., 0.,  ..., 0., 0., 0.],\n",
      "         ...,\n",
      "         [0., 0., 0.,  ..., 0., 0., 0.],\n",
      "         [0., 0., 0.,  ..., 0., 0., 0.],\n",
      "         [0., 0., 0.,  ..., 0., 1., 0.]],\n",
      "\n",
      "        [[0., 0., 0.,  ..., 1., 0., 0.],\n",
      "         [0., 0., 0.,  ..., 0., 0., 0.],\n",
      "         [0., 0., 0.,  ..., 0., 0., 0.],\n",
      "         ...,\n",
      "         [1., 0., 0.,  ..., 0., 0., 0.],\n",
      "         [1., 0., 0.,  ..., 0., 0., 0.],\n",
      "         [1., 0., 0.,  ..., 0., 0., 0.]]])\n"
     ]
    },
    {
     "ename": "RuntimeError",
     "evalue": "each element in list of batch should be of equal size",
     "output_type": "error",
     "traceback": [
      "\u001b[1;31m---------------------------------------------------------------------------\u001b[0m",
      "\u001b[1;31mRuntimeError\u001b[0m                              Traceback (most recent call last)",
      "\u001b[1;32mc:\\Documents\\SynologyDrive\\School\\Year 3\\CSC413\\Assignments\\project\\CSC413-final-project\\models.ipynb Cell 77'\u001b[0m in \u001b[0;36m<module>\u001b[1;34m\u001b[0m\n\u001b[0;32m      <a href='vscode-notebook-cell:/c%3A/Documents/SynologyDrive/School/Year%203/CSC413/Assignments/project/CSC413-final-project/models.ipynb#ch0000043?line=0'>1</a>\u001b[0m tiny_transformer \u001b[39m=\u001b[39m  caption_transformer(\u001b[39m8\u001b[39m,\u001b[39m200\u001b[39m)\n\u001b[1;32m----> <a href='vscode-notebook-cell:/c%3A/Documents/SynologyDrive/School/Year%203/CSC413/Assignments/project/CSC413-final-project/models.ipynb#ch0000043?line=1'>2</a>\u001b[0m train(tiny_transformer,tiny_train_data,tiny_train_data,learning_rate\u001b[39m=\u001b[39;49m\u001b[39m0.001\u001b[39;49m,num_epoches\u001b[39m=\u001b[39;49m\u001b[39m100\u001b[39;49m,batch_size\u001b[39m=\u001b[39;49m\u001b[39m30\u001b[39;49m,)\n",
      "\u001b[1;32mc:\\Documents\\SynologyDrive\\School\\Year 3\\CSC413\\Assignments\\project\\CSC413-final-project\\models.ipynb Cell 69'\u001b[0m in \u001b[0;36mtrain\u001b[1;34m(model, train_data, valid_data, num_epoches, batch_size, learning_rate, weight_decay)\u001b[0m\n\u001b[0;32m     <a href='vscode-notebook-cell:/c%3A/Documents/SynologyDrive/School/Year%203/CSC413/Assignments/project/CSC413-final-project/models.ipynb#ch0000039?line=25'>26</a>\u001b[0m optimizer\u001b[39m.\u001b[39mzero_grad()\n\u001b[0;32m     <a href='vscode-notebook-cell:/c%3A/Documents/SynologyDrive/School/Year%203/CSC413/Assignments/project/CSC413-final-project/models.ipynb#ch0000039?line=27'>28</a>\u001b[0m train_cost \u001b[39m=\u001b[39m \u001b[39mfloat\u001b[39m(loss\u001b[39m.\u001b[39mdetach()\u001b[39m.\u001b[39mnumpy())\n\u001b[1;32m---> <a href='vscode-notebook-cell:/c%3A/Documents/SynologyDrive/School/Year%203/CSC413/Assignments/project/CSC413-final-project/models.ipynb#ch0000039?line=28'>29</a>\u001b[0m train_acc \u001b[39m=\u001b[39m get_accuracy(model, train_data)\n\u001b[0;32m     <a href='vscode-notebook-cell:/c%3A/Documents/SynologyDrive/School/Year%203/CSC413/Assignments/project/CSC413-final-project/models.ipynb#ch0000039?line=29'>30</a>\u001b[0m val_acc \u001b[39m=\u001b[39m get_accuracy(model, valid_data)\n\u001b[0;32m     <a href='vscode-notebook-cell:/c%3A/Documents/SynologyDrive/School/Year%203/CSC413/Assignments/project/CSC413-final-project/models.ipynb#ch0000039?line=30'>31</a>\u001b[0m n\u001b[39m+\u001b[39m\u001b[39m=\u001b[39m\u001b[39m1\u001b[39m\n",
      "\u001b[1;32mc:\\Documents\\SynologyDrive\\School\\Year 3\\CSC413\\Assignments\\project\\CSC413-final-project\\models.ipynb Cell 54'\u001b[0m in \u001b[0;36mget_accuracy\u001b[1;34m(model, data, batch_size)\u001b[0m\n\u001b[0;32m      <a href='vscode-notebook-cell:/c%3A/Documents/SynologyDrive/School/Year%203/CSC413/Assignments/project/CSC413-final-project/models.ipynb#ch0000038?line=2'>3</a>\u001b[0m num \u001b[39m=\u001b[39m \u001b[39m0\u001b[39m\n\u001b[0;32m      <a href='vscode-notebook-cell:/c%3A/Documents/SynologyDrive/School/Year%203/CSC413/Assignments/project/CSC413-final-project/models.ipynb#ch0000038?line=3'>4</a>\u001b[0m correct \u001b[39m=\u001b[39m \u001b[39m0\u001b[39m\n\u001b[1;32m----> <a href='vscode-notebook-cell:/c%3A/Documents/SynologyDrive/School/Year%203/CSC413/Assignments/project/CSC413-final-project/models.ipynb#ch0000038?line=4'>5</a>\u001b[0m \u001b[39mfor\u001b[39;00m x,y \u001b[39min\u001b[39;00m mini_batch:\n\u001b[0;32m      <a href='vscode-notebook-cell:/c%3A/Documents/SynologyDrive/School/Year%203/CSC413/Assignments/project/CSC413-final-project/models.ipynb#ch0000038?line=5'>6</a>\u001b[0m     N, S, W \u001b[39m=\u001b[39m y\u001b[39m.\u001b[39mshape \n\u001b[0;32m      <a href='vscode-notebook-cell:/c%3A/Documents/SynologyDrive/School/Year%203/CSC413/Assignments/project/CSC413-final-project/models.ipynb#ch0000038?line=6'>7</a>\u001b[0m     num\u001b[39m+\u001b[39m\u001b[39m=\u001b[39mN\u001b[39m*\u001b[39mS\n",
      "File \u001b[1;32m~\\miniconda3\\envs\\csc413\\lib\\site-packages\\torch\\utils\\data\\dataloader.py:521\u001b[0m, in \u001b[0;36m_BaseDataLoaderIter.__next__\u001b[1;34m(self)\u001b[0m\n\u001b[0;32m    <a href='file:///c%3A/Users/Will_/miniconda3/envs/csc413/lib/site-packages/torch/utils/data/dataloader.py?line=518'>519</a>\u001b[0m \u001b[39mif\u001b[39;00m \u001b[39mself\u001b[39m\u001b[39m.\u001b[39m_sampler_iter \u001b[39mis\u001b[39;00m \u001b[39mNone\u001b[39;00m:\n\u001b[0;32m    <a href='file:///c%3A/Users/Will_/miniconda3/envs/csc413/lib/site-packages/torch/utils/data/dataloader.py?line=519'>520</a>\u001b[0m     \u001b[39mself\u001b[39m\u001b[39m.\u001b[39m_reset()\n\u001b[1;32m--> <a href='file:///c%3A/Users/Will_/miniconda3/envs/csc413/lib/site-packages/torch/utils/data/dataloader.py?line=520'>521</a>\u001b[0m data \u001b[39m=\u001b[39m \u001b[39mself\u001b[39;49m\u001b[39m.\u001b[39;49m_next_data()\n\u001b[0;32m    <a href='file:///c%3A/Users/Will_/miniconda3/envs/csc413/lib/site-packages/torch/utils/data/dataloader.py?line=521'>522</a>\u001b[0m \u001b[39mself\u001b[39m\u001b[39m.\u001b[39m_num_yielded \u001b[39m+\u001b[39m\u001b[39m=\u001b[39m \u001b[39m1\u001b[39m\n\u001b[0;32m    <a href='file:///c%3A/Users/Will_/miniconda3/envs/csc413/lib/site-packages/torch/utils/data/dataloader.py?line=522'>523</a>\u001b[0m \u001b[39mif\u001b[39;00m \u001b[39mself\u001b[39m\u001b[39m.\u001b[39m_dataset_kind \u001b[39m==\u001b[39m _DatasetKind\u001b[39m.\u001b[39mIterable \u001b[39mand\u001b[39;00m \\\n\u001b[0;32m    <a href='file:///c%3A/Users/Will_/miniconda3/envs/csc413/lib/site-packages/torch/utils/data/dataloader.py?line=523'>524</a>\u001b[0m         \u001b[39mself\u001b[39m\u001b[39m.\u001b[39m_IterableDataset_len_called \u001b[39mis\u001b[39;00m \u001b[39mnot\u001b[39;00m \u001b[39mNone\u001b[39;00m \u001b[39mand\u001b[39;00m \\\n\u001b[0;32m    <a href='file:///c%3A/Users/Will_/miniconda3/envs/csc413/lib/site-packages/torch/utils/data/dataloader.py?line=524'>525</a>\u001b[0m         \u001b[39mself\u001b[39m\u001b[39m.\u001b[39m_num_yielded \u001b[39m>\u001b[39m \u001b[39mself\u001b[39m\u001b[39m.\u001b[39m_IterableDataset_len_called:\n",
      "File \u001b[1;32m~\\miniconda3\\envs\\csc413\\lib\\site-packages\\torch\\utils\\data\\dataloader.py:561\u001b[0m, in \u001b[0;36m_SingleProcessDataLoaderIter._next_data\u001b[1;34m(self)\u001b[0m\n\u001b[0;32m    <a href='file:///c%3A/Users/Will_/miniconda3/envs/csc413/lib/site-packages/torch/utils/data/dataloader.py?line=558'>559</a>\u001b[0m \u001b[39mdef\u001b[39;00m \u001b[39m_next_data\u001b[39m(\u001b[39mself\u001b[39m):\n\u001b[0;32m    <a href='file:///c%3A/Users/Will_/miniconda3/envs/csc413/lib/site-packages/torch/utils/data/dataloader.py?line=559'>560</a>\u001b[0m     index \u001b[39m=\u001b[39m \u001b[39mself\u001b[39m\u001b[39m.\u001b[39m_next_index()  \u001b[39m# may raise StopIteration\u001b[39;00m\n\u001b[1;32m--> <a href='file:///c%3A/Users/Will_/miniconda3/envs/csc413/lib/site-packages/torch/utils/data/dataloader.py?line=560'>561</a>\u001b[0m     data \u001b[39m=\u001b[39m \u001b[39mself\u001b[39;49m\u001b[39m.\u001b[39;49m_dataset_fetcher\u001b[39m.\u001b[39;49mfetch(index)  \u001b[39m# may raise StopIteration\u001b[39;00m\n\u001b[0;32m    <a href='file:///c%3A/Users/Will_/miniconda3/envs/csc413/lib/site-packages/torch/utils/data/dataloader.py?line=561'>562</a>\u001b[0m     \u001b[39mif\u001b[39;00m \u001b[39mself\u001b[39m\u001b[39m.\u001b[39m_pin_memory:\n\u001b[0;32m    <a href='file:///c%3A/Users/Will_/miniconda3/envs/csc413/lib/site-packages/torch/utils/data/dataloader.py?line=562'>563</a>\u001b[0m         data \u001b[39m=\u001b[39m _utils\u001b[39m.\u001b[39mpin_memory\u001b[39m.\u001b[39mpin_memory(data)\n",
      "File \u001b[1;32m~\\miniconda3\\envs\\csc413\\lib\\site-packages\\torch\\utils\\data\\_utils\\fetch.py:52\u001b[0m, in \u001b[0;36m_MapDatasetFetcher.fetch\u001b[1;34m(self, possibly_batched_index)\u001b[0m\n\u001b[0;32m     <a href='file:///c%3A/Users/Will_/miniconda3/envs/csc413/lib/site-packages/torch/utils/data/_utils/fetch.py?line=49'>50</a>\u001b[0m \u001b[39melse\u001b[39;00m:\n\u001b[0;32m     <a href='file:///c%3A/Users/Will_/miniconda3/envs/csc413/lib/site-packages/torch/utils/data/_utils/fetch.py?line=50'>51</a>\u001b[0m     data \u001b[39m=\u001b[39m \u001b[39mself\u001b[39m\u001b[39m.\u001b[39mdataset[possibly_batched_index]\n\u001b[1;32m---> <a href='file:///c%3A/Users/Will_/miniconda3/envs/csc413/lib/site-packages/torch/utils/data/_utils/fetch.py?line=51'>52</a>\u001b[0m \u001b[39mreturn\u001b[39;00m \u001b[39mself\u001b[39;49m\u001b[39m.\u001b[39;49mcollate_fn(data)\n",
      "File \u001b[1;32m~\\miniconda3\\envs\\csc413\\lib\\site-packages\\torch\\utils\\data\\_utils\\collate.py:84\u001b[0m, in \u001b[0;36mdefault_collate\u001b[1;34m(batch)\u001b[0m\n\u001b[0;32m     <a href='file:///c%3A/Users/Will_/miniconda3/envs/csc413/lib/site-packages/torch/utils/data/_utils/collate.py?line=81'>82</a>\u001b[0m         \u001b[39mraise\u001b[39;00m \u001b[39mRuntimeError\u001b[39;00m(\u001b[39m'\u001b[39m\u001b[39meach element in list of batch should be of equal size\u001b[39m\u001b[39m'\u001b[39m)\n\u001b[0;32m     <a href='file:///c%3A/Users/Will_/miniconda3/envs/csc413/lib/site-packages/torch/utils/data/_utils/collate.py?line=82'>83</a>\u001b[0m     transposed \u001b[39m=\u001b[39m \u001b[39mzip\u001b[39m(\u001b[39m*\u001b[39mbatch)\n\u001b[1;32m---> <a href='file:///c%3A/Users/Will_/miniconda3/envs/csc413/lib/site-packages/torch/utils/data/_utils/collate.py?line=83'>84</a>\u001b[0m     \u001b[39mreturn\u001b[39;00m [default_collate(samples) \u001b[39mfor\u001b[39;00m samples \u001b[39min\u001b[39;00m transposed]\n\u001b[0;32m     <a href='file:///c%3A/Users/Will_/miniconda3/envs/csc413/lib/site-packages/torch/utils/data/_utils/collate.py?line=85'>86</a>\u001b[0m \u001b[39mraise\u001b[39;00m \u001b[39mTypeError\u001b[39;00m(default_collate_err_msg_format\u001b[39m.\u001b[39mformat(elem_type))\n",
      "File \u001b[1;32m~\\miniconda3\\envs\\csc413\\lib\\site-packages\\torch\\utils\\data\\_utils\\collate.py:84\u001b[0m, in \u001b[0;36m<listcomp>\u001b[1;34m(.0)\u001b[0m\n\u001b[0;32m     <a href='file:///c%3A/Users/Will_/miniconda3/envs/csc413/lib/site-packages/torch/utils/data/_utils/collate.py?line=81'>82</a>\u001b[0m         \u001b[39mraise\u001b[39;00m \u001b[39mRuntimeError\u001b[39;00m(\u001b[39m'\u001b[39m\u001b[39meach element in list of batch should be of equal size\u001b[39m\u001b[39m'\u001b[39m)\n\u001b[0;32m     <a href='file:///c%3A/Users/Will_/miniconda3/envs/csc413/lib/site-packages/torch/utils/data/_utils/collate.py?line=82'>83</a>\u001b[0m     transposed \u001b[39m=\u001b[39m \u001b[39mzip\u001b[39m(\u001b[39m*\u001b[39mbatch)\n\u001b[1;32m---> <a href='file:///c%3A/Users/Will_/miniconda3/envs/csc413/lib/site-packages/torch/utils/data/_utils/collate.py?line=83'>84</a>\u001b[0m     \u001b[39mreturn\u001b[39;00m [default_collate(samples) \u001b[39mfor\u001b[39;00m samples \u001b[39min\u001b[39;00m transposed]\n\u001b[0;32m     <a href='file:///c%3A/Users/Will_/miniconda3/envs/csc413/lib/site-packages/torch/utils/data/_utils/collate.py?line=85'>86</a>\u001b[0m \u001b[39mraise\u001b[39;00m \u001b[39mTypeError\u001b[39;00m(default_collate_err_msg_format\u001b[39m.\u001b[39mformat(elem_type))\n",
      "File \u001b[1;32m~\\miniconda3\\envs\\csc413\\lib\\site-packages\\torch\\utils\\data\\_utils\\collate.py:82\u001b[0m, in \u001b[0;36mdefault_collate\u001b[1;34m(batch)\u001b[0m\n\u001b[0;32m     <a href='file:///c%3A/Users/Will_/miniconda3/envs/csc413/lib/site-packages/torch/utils/data/_utils/collate.py?line=79'>80</a>\u001b[0m elem_size \u001b[39m=\u001b[39m \u001b[39mlen\u001b[39m(\u001b[39mnext\u001b[39m(it))\n\u001b[0;32m     <a href='file:///c%3A/Users/Will_/miniconda3/envs/csc413/lib/site-packages/torch/utils/data/_utils/collate.py?line=80'>81</a>\u001b[0m \u001b[39mif\u001b[39;00m \u001b[39mnot\u001b[39;00m \u001b[39mall\u001b[39m(\u001b[39mlen\u001b[39m(elem) \u001b[39m==\u001b[39m elem_size \u001b[39mfor\u001b[39;00m elem \u001b[39min\u001b[39;00m it):\n\u001b[1;32m---> <a href='file:///c%3A/Users/Will_/miniconda3/envs/csc413/lib/site-packages/torch/utils/data/_utils/collate.py?line=81'>82</a>\u001b[0m     \u001b[39mraise\u001b[39;00m \u001b[39mRuntimeError\u001b[39;00m(\u001b[39m'\u001b[39m\u001b[39meach element in list of batch should be of equal size\u001b[39m\u001b[39m'\u001b[39m)\n\u001b[0;32m     <a href='file:///c%3A/Users/Will_/miniconda3/envs/csc413/lib/site-packages/torch/utils/data/_utils/collate.py?line=82'>83</a>\u001b[0m transposed \u001b[39m=\u001b[39m \u001b[39mzip\u001b[39m(\u001b[39m*\u001b[39mbatch)\n\u001b[0;32m     <a href='file:///c%3A/Users/Will_/miniconda3/envs/csc413/lib/site-packages/torch/utils/data/_utils/collate.py?line=83'>84</a>\u001b[0m \u001b[39mreturn\u001b[39;00m [default_collate(samples) \u001b[39mfor\u001b[39;00m samples \u001b[39min\u001b[39;00m transposed]\n",
      "\u001b[1;31mRuntimeError\u001b[0m: each element in list of batch should be of equal size"
     ]
    }
   ],
   "source": [
    "tiny_transformer =  caption_transformer(8,200)\n",
    "train(tiny_transformer,tiny_train_data,tiny_train_data,learning_rate=0.001,num_epoches=100,batch_size=30,)"
   ]
  },
  {
   "cell_type": "code",
   "execution_count": 66,
   "metadata": {},
   "outputs": [],
   "source": [
    "\n",
    "out = tiny_transformer(features[0].unsqueeze(0), target[0].unsqueeze(0)[:,:-1,:])"
   ]
  },
  {
   "cell_type": "code",
   "execution_count": 67,
   "metadata": {},
   "outputs": [
    {
     "data": {
      "text/plain": [
       "torch.Size([3, 224, 224])"
      ]
     },
     "execution_count": 67,
     "metadata": {},
     "output_type": "execute_result"
    }
   ],
   "source": [
    "creature_imgs[0].shape"
   ]
  },
  {
   "cell_type": "code",
   "execution_count": 68,
   "metadata": {},
   "outputs": [
    {
     "data": {
      "text/plain": [
       "'a child in a pink dress is climbing up a set of stairs in a  entry way }@@@@@@@@@@@@@@@@@@@@@@@@@@@@@@@@@@@@@@@@@@@@@@@@@@@@@@@@@@@@@@@@@@@@@@@@@@@@@@@@@@@@@@@@@@@@@@@@@@@@@'"
      ]
     },
     "execution_count": 68,
     "metadata": {},
     "output_type": "execute_result"
    },
    {
     "data": {
      "image/png": "[encoded data removed]",
      "text/plain": [
       "<Figure size 432x288 with 1 Axes>"
      ]
     },
     "metadata": {
      "needs_background": "light"
     },
     "output_type": "display_data"
    }
   ],
   "source": [
    "plt.imshow(creature_imgs[0].permute(1,2,0).int())\n",
    "sentence = get_sentence_from_onehot(out,vocab)\n",
    "''.join(sentence[0])"
   ]
  },
  {
   "cell_type": "code",
   "execution_count": 64,
   "metadata": {},
   "outputs": [
    {
     "name": "stdout",
     "output_type": "stream",
     "text": [
      "Iter 1. [Val Acc 53%] [Train Acc 54%, Loss 17.475039]\n",
      "Iter 2. [Val Acc 21%] [Train Acc 24%, Loss 17.038582]\n",
      "Iter 3. [Val Acc 65%] [Train Acc 65%, Loss 16.981627]\n",
      "Iter 4. [Val Acc 66%] [Train Acc 67%, Loss 16.650639]\n",
      "Iter 5. [Val Acc 69%] [Train Acc 68%, Loss 16.365370]\n",
      "Iter 6. [Val Acc 69%] [Train Acc 69%, Loss 16.060644]\n",
      "Iter 7. [Val Acc 69%] [Train Acc 69%, Loss 15.868306]\n",
      "Iter 8. [Val Acc 72%] [Train Acc 71%, Loss 15.651612]\n",
      "Iter 9. [Val Acc 70%] [Train Acc 71%, Loss 15.553219]\n",
      "Iter 10. [Val Acc 71%] [Train Acc 72%, Loss 15.548039]\n",
      "Iter 11. [Val Acc 68%] [Train Acc 68%, Loss 15.399825]\n",
      "Iter 12. [Val Acc 69%] [Train Acc 69%, Loss 15.569022]\n",
      "Iter 13. [Val Acc 72%] [Train Acc 72%, Loss 15.476325]\n",
      "Iter 14. [Val Acc 71%] [Train Acc 71%, Loss 15.185826]\n",
      "Iter 15. [Val Acc 71%] [Train Acc 71%, Loss 15.356575]\n",
      "Iter 16. [Val Acc 71%] [Train Acc 72%, Loss 15.458107]\n",
      "Iter 17. [Val Acc 71%] [Train Acc 71%, Loss 15.116787]\n",
      "Iter 18. [Val Acc 71%] [Train Acc 72%, Loss 15.062333]\n",
      "Iter 19. [Val Acc 73%] [Train Acc 73%, Loss 15.115570]\n",
      "Iter 20. [Val Acc 74%] [Train Acc 73%, Loss 14.937813]\n",
      "Iter 21. [Val Acc 73%] [Train Acc 74%, Loss 14.911469]\n",
      "Iter 22. [Val Acc 74%] [Train Acc 74%, Loss 14.863608]\n",
      "Iter 23. [Val Acc 74%] [Train Acc 73%, Loss 14.744726]\n",
      "Iter 24. [Val Acc 74%] [Train Acc 73%, Loss 14.700532]\n",
      "Iter 25. [Val Acc 73%] [Train Acc 73%, Loss 14.612029]\n",
      "Iter 26. [Val Acc 76%] [Train Acc 76%, Loss 14.612793]\n",
      "Iter 27. [Val Acc 77%] [Train Acc 76%, Loss 14.468174]\n",
      "Iter 28. [Val Acc 78%] [Train Acc 78%, Loss 14.452802]\n",
      "Iter 29. [Val Acc 78%] [Train Acc 78%, Loss 14.445054]\n",
      "Iter 30. [Val Acc 79%] [Train Acc 78%, Loss 14.338326]\n",
      "Iter 31. [Val Acc 79%] [Train Acc 78%, Loss 14.286627]\n",
      "Iter 32. [Val Acc 79%] [Train Acc 79%, Loss 14.221318]\n",
      "Iter 33. [Val Acc 80%] [Train Acc 80%, Loss 14.122696]\n",
      "Iter 34. [Val Acc 81%] [Train Acc 82%, Loss 14.046646]\n",
      "Iter 35. [Val Acc 82%] [Train Acc 81%, Loss 14.000217]\n",
      "Iter 36. [Val Acc 82%] [Train Acc 81%, Loss 13.963162]\n",
      "Iter 37. [Val Acc 82%] [Train Acc 83%, Loss 13.937306]\n",
      "Iter 38. [Val Acc 83%] [Train Acc 84%, Loss 13.876552]\n",
      "Iter 39. [Val Acc 84%] [Train Acc 83%, Loss 13.807834]\n",
      "Iter 40. [Val Acc 85%] [Train Acc 85%, Loss 13.744702]\n",
      "Iter 41. [Val Acc 84%] [Train Acc 84%, Loss 13.652688]\n",
      "Iter 42. [Val Acc 85%] [Train Acc 85%, Loss 13.671576]\n",
      "Iter 43. [Val Acc 87%] [Train Acc 87%, Loss 13.600945]\n",
      "Iter 44. [Val Acc 88%] [Train Acc 88%, Loss 13.503026]\n",
      "Iter 45. [Val Acc 89%] [Train Acc 87%, Loss 13.478879]\n",
      "Iter 46. [Val Acc 87%] [Train Acc 87%, Loss 13.416426]\n",
      "Iter 47. [Val Acc 87%] [Train Acc 88%, Loss 13.350538]\n",
      "Iter 48. [Val Acc 90%] [Train Acc 89%, Loss 13.335664]\n",
      "Iter 49. [Val Acc 91%] [Train Acc 90%, Loss 13.297344]\n",
      "Iter 50. [Val Acc 90%] [Train Acc 90%, Loss 13.244805]\n"
     ]
    },
    {
     "data": {
      "image/png": "[encoded data removed]",
      "text/plain": [
       "<Figure size 432x288 with 1 Axes>"
      ]
     },
     "metadata": {
      "needs_background": "light"
     },
     "output_type": "display_data"
    }
   ],
   "source": [
    "small_transformer = caption_transformer(8)\n",
    "train(small_transformer,small_train_data,small_train_data,learning_rate=0.001,num_epoches=50)"
   ]
  },
  {
   "cell_type": "code",
   "execution_count": 70,
   "metadata": {},
   "outputs": [
    {
     "name": "stdout",
     "output_type": "stream",
     "text": [
      "Iter 1. [Val Acc 77%] [Train Acc 76%, Loss 13.192142]\n",
      "Iter 2. [Val Acc 79%] [Train Acc 79%, Loss 14.188063]\n",
      "Iter 3. [Val Acc 85%] [Train Acc 82%, Loss 13.972493]\n",
      "Iter 4. [Val Acc 86%] [Train Acc 87%, Loss 13.641713]\n",
      "Iter 5. [Val Acc 88%] [Train Acc 88%, Loss 13.412138]\n",
      "Iter 6. [Val Acc 88%] [Train Acc 89%, Loss 13.382388]\n",
      "Iter 7. [Val Acc 89%] [Train Acc 88%, Loss 13.268505]\n",
      "Iter 8. [Val Acc 89%] [Train Acc 88%, Loss 13.216901]\n",
      "Iter 9. [Val Acc 89%] [Train Acc 88%, Loss 13.160680]\n",
      "Iter 10. [Val Acc 90%] [Train Acc 89%, Loss 13.164543]\n",
      "Iter 11. [Val Acc 90%] [Train Acc 89%, Loss 13.063646]\n",
      "Iter 12. [Val Acc 91%] [Train Acc 91%, Loss 13.041174]\n",
      "Iter 13. [Val Acc 92%] [Train Acc 94%, Loss 12.967552]\n",
      "Iter 14. [Val Acc 93%] [Train Acc 92%, Loss 13.007338]\n",
      "Iter 15. [Val Acc 94%] [Train Acc 93%, Loss 12.902250]\n",
      "Iter 16. [Val Acc 94%] [Train Acc 95%, Loss 12.915670]\n",
      "Iter 17. [Val Acc 95%] [Train Acc 95%, Loss 12.871367]\n",
      "Iter 18. [Val Acc 94%] [Train Acc 94%, Loss 12.833856]\n",
      "Iter 19. [Val Acc 94%] [Train Acc 93%, Loss 12.777359]\n",
      "Iter 20. [Val Acc 94%] [Train Acc 95%, Loss 12.830956]\n",
      "Iter 21. [Val Acc 96%] [Train Acc 95%, Loss 12.810663]\n",
      "Iter 22. [Val Acc 96%] [Train Acc 95%, Loss 12.800586]\n",
      "Iter 23. [Val Acc 95%] [Train Acc 95%, Loss 12.764284]\n",
      "Iter 24. [Val Acc 96%] [Train Acc 96%, Loss 12.713687]\n",
      "Iter 25. [Val Acc 96%] [Train Acc 96%, Loss 12.722488]\n",
      "Iter 26. [Val Acc 95%] [Train Acc 96%, Loss 12.777809]\n",
      "Iter 27. [Val Acc 96%] [Train Acc 96%, Loss 12.751602]\n",
      "Iter 28. [Val Acc 97%] [Train Acc 97%, Loss 12.703345]\n",
      "Iter 29. [Val Acc 96%] [Train Acc 97%, Loss 12.654684]\n",
      "Iter 30. [Val Acc 97%] [Train Acc 96%, Loss 12.656759]\n",
      "Iter 31. [Val Acc 97%] [Train Acc 97%, Loss 12.691100]\n",
      "Iter 32. [Val Acc 97%] [Train Acc 97%, Loss 12.630308]\n",
      "Iter 33. [Val Acc 97%] [Train Acc 97%, Loss 12.650105]\n",
      "Iter 34. [Val Acc 96%] [Train Acc 97%, Loss 12.628939]\n",
      "Iter 35. [Val Acc 97%] [Train Acc 98%, Loss 12.654703]\n",
      "Iter 36. [Val Acc 98%] [Train Acc 97%, Loss 12.584893]\n",
      "Iter 37. [Val Acc 98%] [Train Acc 97%, Loss 12.545000]\n",
      "Iter 38. [Val Acc 98%] [Train Acc 98%, Loss 12.585443]\n",
      "Iter 39. [Val Acc 98%] [Train Acc 98%, Loss 12.581163]\n",
      "Iter 40. [Val Acc 98%] [Train Acc 98%, Loss 12.579085]\n",
      "Iter 41. [Val Acc 98%] [Train Acc 99%, Loss 12.608521]\n",
      "Iter 42. [Val Acc 97%] [Train Acc 98%, Loss 12.553191]\n",
      "Iter 43. [Val Acc 99%] [Train Acc 98%, Loss 12.644671]\n",
      "Iter 44. [Val Acc 99%] [Train Acc 99%, Loss 12.563691]\n",
      "Iter 45. [Val Acc 98%] [Train Acc 98%, Loss 12.604382]\n",
      "Iter 46. [Val Acc 98%] [Train Acc 98%, Loss 12.562780]\n",
      "Iter 47. [Val Acc 99%] [Train Acc 98%, Loss 12.568468]\n",
      "Iter 48. [Val Acc 98%] [Train Acc 98%, Loss 12.552769]\n",
      "Iter 49. [Val Acc 99%] [Train Acc 99%, Loss 12.570684]\n",
      "Iter 50. [Val Acc 98%] [Train Acc 99%, Loss 12.565823]\n"
     ]
    },
    {
     "data": {
      "image/png": "[encoded data removed]",
      "text/plain": [
       "<Figure size 432x288 with 1 Axes>"
      ]
     },
     "metadata": {
      "needs_background": "light"
     },
     "output_type": "display_data"
    }
   ],
   "source": [
    "train(small_transformer,small_train_data,small_train_data,learning_rate=0.001,num_epoches=50)"
   ]
  },
  {
   "cell_type": "code",
   "execution_count": 110,
   "metadata": {},
   "outputs": [
    {
     "data": {
      "text/plain": [
       "tensor(0.9805)"
      ]
     },
     "execution_count": 110,
     "metadata": {},
     "output_type": "execute_result"
    }
   ],
   "source": [
    "get_accuracy(small_transformer,small_train_data)"
   ]
  },
  {
   "cell_type": "code",
   "execution_count": 40,
   "metadata": {},
   "outputs": [],
   "source": [
    "big_features = vgg.features(creature_imgs[:50])\n",
    "big_captions = onehot_creature_captions[:50]"
   ]
  },
  {
   "cell_type": "code",
   "execution_count": 41,
   "metadata": {},
   "outputs": [],
   "source": [
    "big_dataset = My_Dataset(big_features,big_captions)"
   ]
  },
  {
   "cell_type": "code",
   "execution_count": 42,
   "metadata": {},
   "outputs": [],
   "source": [
    "big_valid_features = vgg.features(creature_imgs[210:260])\n",
    "big_valid_captions = onehot_creature_captions[210:260]"
   ]
  },
  {
   "cell_type": "code",
   "execution_count": 43,
   "metadata": {},
   "outputs": [],
   "source": [
    "valid_dataset = My_Dataset(big_valid_features,big_valid_captions)"
   ]
  },
  {
   "cell_type": "code",
   "execution_count": 81,
   "metadata": {},
   "outputs": [],
   "source": [
    "lengths =[len(s) for s in creature_captions]"
   ]
  },
  {
   "cell_type": "code",
   "execution_count": 84,
   "metadata": {},
   "outputs": [
    {
     "data": {
      "text/plain": [
       "54.62588060808306"
      ]
     },
     "execution_count": 84,
     "metadata": {},
     "output_type": "execute_result"
    }
   ],
   "source": [
    "np.mean(lengths)"
   ]
  },
  {
   "cell_type": "code",
   "execution_count": 134,
   "metadata": {},
   "outputs": [
    {
     "data": {
      "text/plain": [
       "torch.Size([5, 512, 7, 7])"
      ]
     },
     "execution_count": 134,
     "metadata": {},
     "output_type": "execute_result"
    }
   ],
   "source": [
    "features.shape"
   ]
  },
  {
   "cell_type": "code",
   "execution_count": 135,
   "metadata": {},
   "outputs": [],
   "source": [
    "batch_small_data = My_Dataset(features, small_onehot)"
   ]
  },
  {
   "cell_type": "code",
   "execution_count": 332,
   "metadata": {},
   "outputs": [],
   "source": [
    "batch_small_transformer = caption_transformer(8,200)"
   ]
  },
  {
   "cell_type": "code",
   "execution_count": 334,
   "metadata": {},
   "outputs": [
    {
     "name": "stdout",
     "output_type": "stream",
     "text": [
      "Iter 1. [Val Acc 39%] [Train Acc 40%, Loss 5.065861]\n",
      "Iter 2. [Val Acc 45%] [Train Acc 45%, Loss 6.590755]\n",
      "Iter 3. [Val Acc 55%] [Train Acc 55%, Loss 6.030525]\n",
      "Iter 4. [Val Acc 66%] [Train Acc 66%, Loss 5.591172]\n",
      "Iter 5. [Val Acc 74%] [Train Acc 72%, Loss 5.376793]\n",
      "Iter 6. [Val Acc 78%] [Train Acc 78%, Loss 5.218435]\n",
      "Iter 7. [Val Acc 76%] [Train Acc 77%, Loss 5.181398]\n",
      "Iter 8. [Val Acc 75%] [Train Acc 75%, Loss 5.188625]\n",
      "Iter 9. [Val Acc 76%] [Train Acc 76%, Loss 5.089996]\n",
      "Iter 10. [Val Acc 76%] [Train Acc 78%, Loss 5.094921]\n",
      "Iter 11. [Val Acc 81%] [Train Acc 80%, Loss 5.013790]\n",
      "Iter 12. [Val Acc 83%] [Train Acc 80%, Loss 5.019691]\n",
      "Iter 13. [Val Acc 82%] [Train Acc 82%, Loss 4.975700]\n",
      "Iter 14. [Val Acc 81%] [Train Acc 83%, Loss 4.894450]\n",
      "Iter 15. [Val Acc 83%] [Train Acc 83%, Loss 4.885895]\n",
      "Iter 16. [Val Acc 86%] [Train Acc 85%, Loss 4.848498]\n",
      "Iter 17. [Val Acc 85%] [Train Acc 86%, Loss 4.780190]\n",
      "Iter 18. [Val Acc 87%] [Train Acc 85%, Loss 4.794127]\n",
      "Iter 19. [Val Acc 85%] [Train Acc 86%, Loss 4.763324]\n",
      "Iter 20. [Val Acc 83%] [Train Acc 84%, Loss 4.727041]\n",
      "Iter 21. [Val Acc 87%] [Train Acc 87%, Loss 4.706846]\n",
      "Iter 22. [Val Acc 89%] [Train Acc 88%, Loss 4.714779]\n",
      "Iter 23. [Val Acc 87%] [Train Acc 88%, Loss 4.635282]\n",
      "Iter 24. [Val Acc 91%] [Train Acc 89%, Loss 4.688518]\n",
      "Iter 25. [Val Acc 89%] [Train Acc 90%, Loss 4.621536]\n",
      "Iter 26. [Val Acc 90%] [Train Acc 89%, Loss 4.612403]\n",
      "Iter 27. [Val Acc 90%] [Train Acc 93%, Loss 4.613979]\n",
      "Iter 28. [Val Acc 88%] [Train Acc 90%, Loss 4.614872]\n",
      "Iter 29. [Val Acc 87%] [Train Acc 90%, Loss 4.604845]\n",
      "Iter 30. [Val Acc 90%] [Train Acc 91%, Loss 4.562106]\n",
      "Iter 31. [Val Acc 92%] [Train Acc 94%, Loss 4.552732]\n",
      "Iter 32. [Val Acc 93%] [Train Acc 93%, Loss 4.500773]\n",
      "Iter 33. [Val Acc 93%] [Train Acc 92%, Loss 4.552111]\n",
      "Iter 34. [Val Acc 94%] [Train Acc 92%, Loss 4.562129]\n",
      "Iter 35. [Val Acc 95%] [Train Acc 94%, Loss 4.530740]\n",
      "Iter 36. [Val Acc 94%] [Train Acc 94%, Loss 4.489551]\n",
      "Iter 37. [Val Acc 94%] [Train Acc 95%, Loss 4.498968]\n",
      "Iter 38. [Val Acc 95%] [Train Acc 96%, Loss 4.473810]\n",
      "Iter 39. [Val Acc 94%] [Train Acc 95%, Loss 4.460168]\n",
      "Iter 40. [Val Acc 92%] [Train Acc 94%, Loss 4.475292]\n",
      "Iter 41. [Val Acc 94%] [Train Acc 95%, Loss 4.455873]\n",
      "Iter 42. [Val Acc 97%] [Train Acc 95%, Loss 4.479573]\n",
      "Iter 43. [Val Acc 95%] [Train Acc 97%, Loss 4.467034]\n",
      "Iter 44. [Val Acc 94%] [Train Acc 93%, Loss 4.423200]\n",
      "Iter 45. [Val Acc 95%] [Train Acc 94%, Loss 4.486447]\n",
      "Iter 46. [Val Acc 95%] [Train Acc 95%, Loss 4.440005]\n",
      "Iter 47. [Val Acc 96%] [Train Acc 97%, Loss 4.409759]\n",
      "Iter 48. [Val Acc 97%] [Train Acc 96%, Loss 4.436430]\n",
      "Iter 49. [Val Acc 95%] [Train Acc 97%, Loss 4.440280]\n",
      "Iter 50. [Val Acc 95%] [Train Acc 95%, Loss 4.434531]\n"
     ]
    },
    {
     "data": {
      "image/png": "[encoded data removed]",
      "text/plain": [
       "<Figure size 432x288 with 1 Axes>"
      ]
     },
     "metadata": {
      "needs_background": "light"
     },
     "output_type": "display_data"
    }
   ],
   "source": [
    "train(batch_small_transformer,batch_small_data,batch_small_data,50,learning_rate=0.001)"
   ]
  },
  {
   "cell_type": "code",
   "execution_count": 350,
   "metadata": {},
   "outputs": [],
   "source": [
    "out = batch_small_transformer(features[0].unsqueeze(0), small_onehot[0].unsqueeze(0)[:,:-1,:])"
   ]
  },
  {
   "cell_type": "code",
   "execution_count": 357,
   "metadata": {},
   "outputs": [],
   "source": [
    "index_out = torch.argmax(out,dim =2).tolist()"
   ]
  },
  {
   "cell_type": "code",
   "execution_count": 362,
   "metadata": {},
   "outputs": [],
   "source": [
    "numpy_vocab = np.array(vocab)"
   ]
  },
  {
   "cell_type": "code",
   "execution_count": 364,
   "metadata": {},
   "outputs": [
    {
     "data": {
      "text/plain": [
       "'a child in a pink dress is climbing up a set of stairs in an entry wyy }@@@@@@@@@@@@@@@@@@@@'"
      ]
     },
     "execution_count": 364,
     "metadata": {},
     "output_type": "execute_result"
    }
   ],
   "source": [
    "''.join(numpy_vocab[index_out[0]])"
   ]
  },
  {
   "cell_type": "code",
   "execution_count": 367,
   "metadata": {},
   "outputs": [],
   "source": [
    "out = generate_captions(features[0],batch_small_transformer)"
   ]
  },
  {
   "cell_type": "code",
   "execution_count": 368,
   "metadata": {},
   "outputs": [
    {
     "data": {
      "text/plain": [
       "'{aym meneinenb m iog w w w w mhild g m w wog m m weilw w m m weilw w g w w w w w g m w whwow d m m w w w g m iow w m w g w g m w w w g g w w w m g g w g g m g w w w w w w w g w g g w g g m whwhw w m w '"
      ]
     },
     "execution_count": 368,
     "metadata": {},
     "output_type": "execute_result"
    }
   ],
   "source": [
    "''.join(out[0])"
   ]
  },
  {
   "cell_type": "code",
   "execution_count": 330,
   "metadata": {},
   "outputs": [],
   "source": [
    "out = generate_captions(features[0], batch_small_transformer)"
   ]
  },
  {
   "cell_type": "code",
   "execution_count": 331,
   "metadata": {},
   "outputs": [
    {
     "data": {
      "text/plain": [
       "'{@nanenenenan nenenen nenenenenemenenemeneren nemenenenenenenenerenenenenenemenerenenenenenenenenenenen menenenenenenemen menenenenenenenenemenenemenenenenenenenen men menemenenenenenenenenenemenenen n'"
      ]
     },
     "execution_count": 331,
     "metadata": {},
     "output_type": "execute_result"
    }
   ],
   "source": [
    "''.join(out[0])"
   ]
  },
  {
   "cell_type": "code",
   "execution_count": 227,
   "metadata": {},
   "outputs": [
    {
     "data": {
      "text/plain": [
       "['{',\n",
       " 'a',\n",
       " ' ',\n",
       " 'c',\n",
       " 'h',\n",
       " 'i',\n",
       " 'l',\n",
       " 'd',\n",
       " ' ',\n",
       " 'i',\n",
       " 'n',\n",
       " ' ',\n",
       " 'a',\n",
       " ' ',\n",
       " 'p',\n",
       " 'i',\n",
       " 'n',\n",
       " 'k',\n",
       " ' ',\n",
       " 'd',\n",
       " 'r',\n",
       " 'e',\n",
       " 's',\n",
       " 's',\n",
       " ' ',\n",
       " 'i',\n",
       " 's',\n",
       " ' ',\n",
       " 'c',\n",
       " 'l',\n",
       " 'i',\n",
       " 'm',\n",
       " 'b',\n",
       " 'i',\n",
       " 'n',\n",
       " 'g',\n",
       " ' ',\n",
       " 'u',\n",
       " 'p',\n",
       " ' ',\n",
       " 'a',\n",
       " ' ',\n",
       " 's',\n",
       " 'e',\n",
       " 't',\n",
       " ' ',\n",
       " 'o',\n",
       " 'f',\n",
       " ' ',\n",
       " 's',\n",
       " 't',\n",
       " 'a',\n",
       " 'i',\n",
       " 'r',\n",
       " 's',\n",
       " ' ',\n",
       " 'i',\n",
       " 'n',\n",
       " ' ',\n",
       " 'a',\n",
       " 'n',\n",
       " ' ',\n",
       " 'e',\n",
       " 'n',\n",
       " 't',\n",
       " 'r',\n",
       " 'y',\n",
       " ' ',\n",
       " 'w',\n",
       " 'a',\n",
       " 'y',\n",
       " ' ',\n",
       " '}',\n",
       " '@',\n",
       " '@',\n",
       " '@',\n",
       " '@',\n",
       " '@',\n",
       " '@',\n",
       " '@',\n",
       " '@',\n",
       " '@',\n",
       " '@',\n",
       " '@',\n",
       " '@',\n",
       " '@',\n",
       " '@',\n",
       " '@',\n",
       " '@',\n",
       " '@',\n",
       " '@',\n",
       " '@',\n",
       " '@']"
      ]
     },
     "execution_count": 227,
     "metadata": {},
     "output_type": "execute_result"
    }
   ],
   "source": [
    "get_sentence_from_onehot(small_onehot,vocab)[0]"
   ]
  },
  {
   "cell_type": "code",
   "execution_count": 167,
   "metadata": {},
   "outputs": [
    {
     "data": {
      "text/plain": [
       "torch.Size([93, 51])"
      ]
     },
     "execution_count": 167,
     "metadata": {},
     "output_type": "execute_result"
    }
   ],
   "source": [
    "small_onehot[0].shape"
   ]
  },
  {
   "cell_type": "code",
   "execution_count": 243,
   "metadata": {},
   "outputs": [],
   "source": [
    "out = batch_small_transformer(features[1].unsqueeze(0), small_onehot[1].unsqueeze(0)[:,:7,:])"
   ]
  },
  {
   "cell_type": "code",
   "execution_count": 244,
   "metadata": {},
   "outputs": [],
   "source": [
    "onehot_out = torch.softmax(out, axis = 1)"
   ]
  },
  {
   "cell_type": "code",
   "execution_count": 245,
   "metadata": {},
   "outputs": [],
   "source": [
    "out_sentence = get_sentence_from_onehot(onehot_out,vocab)"
   ]
  },
  {
   "cell_type": "code",
   "execution_count": 246,
   "metadata": {},
   "outputs": [],
   "source": [
    "part_origin_sentence = get_sentence_from_onehot(small_onehot[1].unsqueeze(0)[:,:7,:],vocab)"
   ]
  }
 ],
 "metadata": {
  "interpreter": {
   "hash": "d1a9e723f9c0de23dd099ee83cbbfd5eb4ef0e34f00ddb9199c5e9d5c945f09f"
  },
  "kernelspec": {
   "display_name": "Python 3.8.12 ('csc413')",
   "language": "python",
   "name": "python3"
  },
  "language_info": {
   "codemirror_mode": {
    "name": "ipython",
    "version": 3
   },
   "file_extension": ".py",
   "mimetype": "text/x-python",
   "name": "python",
   "nbconvert_exporter": "python",
   "pygments_lexer": "ipython3",
   "version": "3.8.12"
  },
  "orig_nbformat": 4
 },
 "nbformat": 4,
 "nbformat_minor": 2
}
