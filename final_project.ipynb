{
 "cells": [
  {
   "cell_type": "code",
   "execution_count": 1,
   "metadata": {},
   "outputs": [],
   "source": [
    "import dataloader\n",
    "creature_imgs, captions = dataloader.get_creature_data()"
   ]
  }
 ],
 "metadata": {
  "interpreter": {
   "hash": "d1a9e723f9c0de23dd099ee83cbbfd5eb4ef0e34f00ddb9199c5e9d5c945f09f"
  },
  "kernelspec": {
   "display_name": "Python 3.8.12 ('csc413')",
   "language": "python",
   "name": "python3"
  },
  "language_info": {
   "codemirror_mode": {
    "name": "ipython",
    "version": 3
   },
   "file_extension": ".py",
   "mimetype": "text/x-python",
   "name": "python",
   "nbconvert_exporter": "python",
   "pygments_lexer": "ipython3",
   "version": "3.8.12"
  },
  "orig_nbformat": 4
 },
 "nbformat": 4,
 "nbformat_minor": 2
}
